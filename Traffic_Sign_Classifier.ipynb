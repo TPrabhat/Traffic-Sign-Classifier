{
 "cells": [
  {
   "cell_type": "markdown",
   "metadata": {},
   "source": [
    "---\n",
    "## Step 0: Load The Data"
   ]
  },
  {
   "cell_type": "code",
   "execution_count": 10,
   "metadata": {
    "collapsed": true
   },
   "outputs": [],
   "source": [
    "# Load pickled data\n",
    "import pickle\n",
    "import numpy as np\n",
    "\n",
    "training_file = \"train.p\"\n",
    "validation_file= \"valid.p\"\n",
    "testing_file = \"test.p\"\n",
    "\n",
    "with open(training_file, mode='rb') as f:\n",
    "    train = pickle.load(f)\n",
    "with open(validation_file, mode='rb') as f:\n",
    "    valid = pickle.load(f)\n",
    "with open(testing_file, mode='rb') as f:\n",
    "    test = pickle.load(f)\n",
    "\n",
    "X_train, y_train = train['features'], train['labels']\n",
    "X_valid, y_valid = valid['features'], valid['labels']\n",
    "X_test, y_test = test['features'], test['labels']"
   ]
  },
  {
   "cell_type": "markdown",
   "metadata": {},
   "source": [
    "---\n",
    "\n",
    "## Step 1: Dataset Summary & Exploration\n",
    "\n",
    "The pickled data is a dictionary with 4 key/value pairs:\n",
    "\n",
    "- `'features'` is a 4D array containing raw pixel data of the traffic sign images, (num examples, width, height, channels).\n",
    "- `'labels'` is a 1D array containing the label/class id of the traffic sign. The file `signnames.csv` contains id -> name mappings for each id.\n",
    "- `'sizes'` is a list containing tuples, (width, height) representing the original width and height the image.\n",
    "- `'coords'` is a list containing tuples, (x1, y1, x2, y2) representing coordinates of a bounding box around the sign in the image. **THESE COORDINATES ASSUME THE ORIGINAL IMAGE. THE PICKLED DATA CONTAINS RESIZED VERSIONS (32 by 32) OF THESE IMAGES**\n",
    "\n",
    "Complete the basic data summary below. Use python, numpy and/or pandas methods to calculate the data summary rather than hard coding the results. For example, the [pandas shape method](http://pandas.pydata.org/pandas-docs/stable/generated/pandas.DataFrame.shape.html) might be useful for calculating some of the summary results. "
   ]
  },
  {
   "cell_type": "markdown",
   "metadata": {},
   "source": [
    "### Provide a Basic Summary of the Data Set Using Python, Numpy and/or Pandas"
   ]
  },
  {
   "cell_type": "code",
   "execution_count": 11,
   "metadata": {},
   "outputs": [
    {
     "name": "stdout",
     "output_type": "stream",
     "text": [
      "Number of training examples = 34799\n",
      "Number of testing examples = 12630\n",
      "Image data shape = 3 [28 25 24]\n",
      "Number of classes = 43\n"
     ]
    }
   ],
   "source": [
    "import pandas as pd\n",
    "\n",
    "train_data = pd.read_csv(\"signnames.csv\")\n",
    "\n",
    "\n",
    "assert(len(X_train) == len(y_train))\n",
    "assert(len(X_valid) == len(y_valid))\n",
    "assert(len(X_test) == len(y_test))\n",
    "\n",
    "n_train = np.shape(X_train)[0]\n",
    "\n",
    "# Number of validation examples\n",
    "n_validation = np.shape(X_valid)[0]\n",
    "\n",
    "# Number of testing examples.\n",
    "n_test = np.shape(X_test)[0]\n",
    "\n",
    "# What's the shape of an traffic sign image?\n",
    "image_shape = len(train['features'][0, 0, 0])\n",
    "\n",
    "# How many unique classes/labels there are in the dataset.\n",
    "n_classes = np.shape(train['labels'])\n",
    "\n",
    "print(\"Number of training examples =\", n_train)\n",
    "print(\"Number of testing examples =\", n_test)\n",
    "print(\"Image data shape =\", image_shape, train['features'][0, 0, 0])\n",
    "print(\"Number of classes =\", len(train_data))"
   ]
  },
  {
   "cell_type": "markdown",
   "metadata": {},
   "source": [
    "### Include an exploratory visualization of the dataset"
   ]
  },
  {
   "cell_type": "code",
   "execution_count": 12,
   "metadata": {
    "scrolled": true
   },
   "outputs": [
    {
     "data": {
      "image/png": "iVBORw0KGgoAAAANSUhEUgAAAP8AAAD8CAYAAAC4nHJkAAAABHNCSVQICAgIfAhkiAAAAAlwSFlz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\nFMr/A2oQYr/XbnhvAAAAAElFTkSuQmCC\n",
      "text/plain": [
       "<matplotlib.figure.Figure at 0x7fc93ba84940>"
      ]
     },
     "metadata": {},
     "output_type": "display_data"
    },
    {
     "data": {
      "image/png": "iVBORw0KGgoAAAANSUhEUgAAAP8AAAD8CAYAAAC4nHJkAAAABHNCSVQICAgIfAhkiAAAAAlwSFlz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\nYII=\n",
      "text/plain": [
       "<matplotlib.figure.Figure at 0x7fc90e552d30>"
      ]
     },
     "metadata": {},
     "output_type": "display_data"
    }
   ],
   "source": [
    "### Data exploration visualization\n",
    "\n",
    "import matplotlib.pyplot as plt\n",
    "# Visualizations will be shown in the notebook.\n",
    "%matplotlib inline\n",
    "for i in range(2):\n",
    "    plt.imshow(X_train[i])\n",
    "    plt.show()"
   ]
  },
  {
   "cell_type": "markdown",
   "metadata": {},
   "source": [
    "### Pre-process the Data Set (normalization, grayscale, etc.)"
   ]
  },
  {
   "cell_type": "markdown",
   "metadata": {},
   "source": [
    "Minimally, the image data should be normalized so that the data has mean zero and equal variance. For image data, `(pixel - 128)/ 128` is a quick way to approximately normalize the data and can be used in this project. \n",
    "\n",
    "Other pre-processing steps are optional. You can try different techniques to see if it improves performance. \n",
    "\n",
    "Use the code cell (or multiple code cells, if necessary) to implement the first step of your project."
   ]
  },
  {
   "cell_type": "code",
   "execution_count": 13,
   "metadata": {
    "collapsed": true
   },
   "outputs": [],
   "source": [
    "\n",
    "from tqdm import tqdm\n",
    "import cv2\n",
    "\n",
    "# converting to grayscale\n",
    "\n",
    "def convert_to_gray(data):\n",
    "    print(\"Converting to grayscale ..\")\n",
    "    result = []\n",
    "    for i in tqdm(range(len(data))):\n",
    "        result.append(cv2.cvtColor(data[i], cv2.COLOR_RGB2GRAY))\n",
    "    return np.reshape(result,(len(data), 32, 32, 1))\n",
    "\n",
    "# apply gaussian blur\n",
    "\n",
    "def gaussian_blur(data):\n",
    "    print(\"Applying Gaussian Blur ..\")\n",
    "    result = []\n",
    "    for i in tqdm(range(len(data))):\n",
    "        result.append(cv2.GaussianBlur(data[i], (5,5), 0))\n",
    "        \n",
    "    return result"
   ]
  },
  {
   "cell_type": "markdown",
   "metadata": {},
   "source": [
    "# Apply gamma correction"
   ]
  },
  {
   "cell_type": "code",
   "execution_count": 14,
   "metadata": {
    "scrolled": false
   },
   "outputs": [
    {
     "data": {
      "text/plain": [
       "'\\n# test out on 5 random images\\nfor i in range(2):\\n    rnd = np.random.randint(0, len(X_train))\\n    img = X_train[rnd]\\n    plt.imshow(img)\\n    plt.show() \\n    gamma_corrected = adjust_gamma(img, 2.2)\\n    plt.imshow(gamma_corrected)\\n    plt.show()\\n'"
      ]
     },
     "execution_count": 14,
     "metadata": {},
     "output_type": "execute_result"
    }
   ],
   "source": [
    "def adjust_gamma(data, gamma=1.0):\n",
    "    print(\"Applying Gamma correction ..\")\n",
    "    result = []\n",
    "    for j in tqdm(range(len(data))):\n",
    "        # build a lookup table mapping the pixel values [0, 255] to\n",
    "        # their adjusted gamma values\n",
    "        invGamma = 1.0 / gamma\n",
    "        table = np.array([((i / 255.0) ** invGamma) * 255\n",
    "            for i in np.arange(0, 256)]).astype(\"uint8\")\n",
    "\n",
    "        # apply gamma correction using the lookup table\n",
    "        result.append(cv2.LUT(data[j], table))\n",
    "        table = []\n",
    "    return result\n",
    "'''\n",
    "# test out on 5 random images\n",
    "for i in range(2):\n",
    "    rnd = np.random.randint(0, len(X_train))\n",
    "    img = X_train[rnd]\n",
    "    plt.imshow(img)\n",
    "    plt.show() \n",
    "    gamma_corrected = adjust_gamma(img, 2.2)\n",
    "    plt.imshow(gamma_corrected)\n",
    "    plt.show()\n",
    "'''"
   ]
  },
  {
   "cell_type": "code",
   "execution_count": 15,
   "metadata": {
    "collapsed": true,
    "scrolled": false
   },
   "outputs": [],
   "source": [
    "\n",
    "# Rotate the image by an angle\n",
    "#the routine below will work on grayscale images only\n",
    "def rotation(data, angle):\n",
    "    print(\"Rotating ..\")\n",
    "    result = []\n",
    "    for i in tqdm(range(len(data))):\n",
    "        img = np.reshape(data[i],(32,32,1))\n",
    "        rows, cols ,channels = np.shape(img)\n",
    "        rot_mat = cv2.getRotationMatrix2D((cols/2,rows/2),angle,1.0)\n",
    "        dst = cv2.warpAffine(img,rot_mat,(cols,rows))\n",
    "        result.append(dst)\n",
    "    return np.reshape(result, (len(result),32,32,1))\n"
   ]
  },
  {
   "cell_type": "code",
   "execution_count": 16,
   "metadata": {
    "collapsed": true
   },
   "outputs": [],
   "source": [
    "#image normalization by averaging\n",
    "\n",
    "def normalize(data):\n",
    "    # define local variables\n",
    "    print(\"Normalizing ..\")\n",
    "    result = []\n",
    "    second_axis = []\n",
    "    first_axis = []\n",
    "    # iterate through entire training set\n",
    "    for i in tqdm(range(len(data))):\n",
    "        # iterate through all rows\n",
    "        for j in range(len(data[0])):\n",
    "            # iterate through all columns\n",
    "            for k in range(len(data[0][0])):\n",
    "                # normalize \n",
    "                result.append(((data[i][j][k]/255.0) - 0.5))\n",
    "            # fill up the row dimension\n",
    "            second_axis.append(result) \n",
    "            #flush data\n",
    "            result = []\n",
    "        # fill up the training set dimension\n",
    "        first_axis.append(second_axis) \n",
    "        #flush data\n",
    "        second_axis = []\n",
    "        \n",
    "    return first_axis\n"
   ]
  },
  {
   "cell_type": "markdown",
   "metadata": {},
   "source": [
    "## Data Preprocessing"
   ]
  },
  {
   "cell_type": "code",
   "execution_count": 17,
   "metadata": {
    "collapsed": true
   },
   "outputs": [],
   "source": [
    "# apply preprocessing to training dataset\n",
    "# 1. Blur image\n",
    "# 2. convert to grayscale\n",
    "# 3. normalize\n",
    "# 4. gamma correct\n",
    "\n",
    "def data_preprocessing(X_data):\n",
    "    X_processed = gaussian_blur(X_data)\n",
    "    X_processed = convert_to_gray(X_processed)\n",
    "    X_processed = adjust_gamma(X_processed, 2.2)\n",
    "    X_processed = normalize(X_processed)\n",
    "    \n",
    "    return np.reshape(X_processed,(len(X_processed), 32, 32, 1))\n",
    "\n",
    "\n"
   ]
  },
  {
   "cell_type": "markdown",
   "metadata": {},
   "source": [
    "## Dataset Augmentation"
   ]
  },
  {
   "cell_type": "code",
   "execution_count": 18,
   "metadata": {
    "collapsed": true
   },
   "outputs": [],
   "source": [
    "\n",
    "def augmented_dataset(X_data, y_data):\n",
    "    # create empty arrays for augmenting dataset\n",
    "    X_rotated_left = []\n",
    "    y_rotated_left = []\n",
    "\n",
    "    X_rotated_right = []\n",
    "    y_rotated_right = []\n",
    "    \n",
    "    X_rotated_left = rotation(X_data, 10)\n",
    "    y_rotated_left = y_data\n",
    "    \n",
    "    X_rotated_right = rotation(X_data, -10)\n",
    "    y_rotated_right = y_data\n",
    "    \n",
    "    return (np.concatenate((X_data, X_rotated_left, X_rotated_right)),np.concatenate((y_data, y_rotated_left, y_rotated_right))) \n",
    "\n"
   ]
  },
  {
   "cell_type": "markdown",
   "metadata": {},
   "source": [
    "### Model Architecture"
   ]
  },
  {
   "cell_type": "code",
   "execution_count": 19,
   "metadata": {
    "collapsed": true
   },
   "outputs": [],
   "source": [
    "### LeNet based architecture\n",
    "\n",
    "\n",
    "import tensorflow as tf\n",
    "from tensorflow.contrib.layers import flatten\n",
    "\n",
    "\n",
    "EPOCHS = 30\n",
    "BATCH_SIZE = 128\n",
    "\n",
    "def LeNet(x):    \n",
    "\n",
    "    mu = 0\n",
    "    sigma = 0.1\n",
    "    \n",
    "    # Layer 1: Convolutional. The output shape should be 28x28x6\n",
    "    \n",
    "    conv1_W = tf.Variable(tf.truncated_normal(shape=(5, 5, 1, 6), mean = mu, stddev = sigma))\n",
    "    conv1_b = tf.Variable(tf.zeros(6))\n",
    "    conv1   = tf.nn.conv2d(x, conv1_W, strides=[1, 1, 1, 1], padding='VALID') + conv1_b\n",
    "    \n",
    "    # Activation\n",
    "    conv1 = tf.nn.relu(conv1)\n",
    "    conv1 = tf.nn.dropout(conv1, keep_prob)\n",
    "    \n",
    "    # Pooling. Input = 28x28x6. Output = 14x14x6.\n",
    "    conv1 = tf.nn.avg_pool(conv1, ksize=[1, 2, 2, 1], strides=[1, 2, 2, 1], padding='VALID')\n",
    "    \n",
    "    # Layer 2: Convolutional. Output = 10x10x16.\n",
    "    conv2_W = tf.Variable(tf.truncated_normal(shape=(5, 5, 6, 16), mean = mu, stddev = sigma))\n",
    "    conv2_b = tf.Variable(tf.zeros(16))\n",
    "    conv2   = tf.nn.conv2d(conv1, conv2_W, strides=[1, 1, 1, 1], padding='VALID') + conv2_b\n",
    "    \n",
    "    # Activation.\n",
    "    conv2 = tf.nn.relu(conv2)\n",
    "    conv2 = tf.nn.dropout(conv2, keep_prob)\n",
    "\n",
    "    # Pooling. Input = 10x10x16. Output = 5x5x16.\n",
    "    conv2 = tf.nn.max_pool(conv2, ksize=[1, 2, 2, 1], strides=[1, 2, 2, 1], padding='VALID')\n",
    "\n",
    "    # Flatten. Input = 5x5x16. Output = 400.\n",
    "    fc0   = flatten(conv2)\n",
    "    \n",
    "    # Layer 3: Fully Connected. Input = 400. Output = 120.\n",
    "    fc1_W = tf.Variable(tf.truncated_normal(shape=(400, 120), mean = mu, stddev = sigma))\n",
    "    fc1_b = tf.Variable(tf.zeros(120))\n",
    "    fc1   = tf.matmul(fc0, fc1_W) + fc1_b\n",
    "    \n",
    "    # Activation.\n",
    "    fc1    = tf.nn.relu(fc1)\n",
    "    fc1 = tf.nn.dropout(fc1, keep_prob)\n",
    "    \n",
    "    # Layer 4: Fully Connected. Input = 120. Output = 84.\n",
    "    fc2_W  = tf.Variable(tf.truncated_normal(shape=(120, 84), mean = mu, stddev = sigma))\n",
    "    fc2_b  = tf.Variable(tf.zeros(84))\n",
    "    fc2    = tf.matmul(fc1, fc2_W) + fc2_b\n",
    "    \n",
    "    # Activation.\n",
    "    fc2    = tf.nn.relu(fc2)\n",
    "    fc2 = tf.nn.dropout(fc2, keep_prob)\n",
    "\n",
    "    # Layer 5: Fully Connected. Input = 84. Output = 43.\n",
    "    fc3_W  = tf.Variable(tf.truncated_normal(shape=(84, 43), mean = mu, stddev = sigma))\n",
    "    fc3_b  = tf.Variable(tf.zeros(43))\n",
    "    logits = tf.matmul(fc2, fc3_W) + fc3_b\n",
    "    \n",
    "    return [logits, conv1_W, conv2_W, fc1_W, fc2_W, fc3_W]\n",
    "    "
   ]
  },
  {
   "cell_type": "markdown",
   "metadata": {},
   "source": [
    "Features and Labels"
   ]
  },
  {
   "cell_type": "code",
   "execution_count": 20,
   "metadata": {},
   "outputs": [],
   "source": [
    "x = tf.placeholder(tf.float32, (None, 32, 32, 1))\n",
    "y = tf.placeholder(tf.int32, (None))\n",
    "keep_prob = tf.placeholder(tf.float32)\n",
    "one_hot_y = tf.one_hot(y, len(train_data))"
   ]
  },
  {
   "cell_type": "markdown",
   "metadata": {},
   "source": [
    "### Augment and preprocess the datasets"
   ]
  },
  {
   "cell_type": "code",
   "execution_count": 21,
   "metadata": {
    "scrolled": true
   },
   "outputs": [
    {
     "name": "stderr",
     "output_type": "stream",
     "text": [
      "  9%|▉         | 3221/34799 [00:00<00:00, 32204.58it/s]"
     ]
    },
    {
     "name": "stdout",
     "output_type": "stream",
     "text": [
      "Applying Gaussian Blur ..\n"
     ]
    },
    {
     "name": "stderr",
     "output_type": "stream",
     "text": [
      "100%|██████████| 34799/34799 [00:00<00:00, 38113.67it/s]\n",
      " 29%|██▉       | 10113/34799 [00:00<00:00, 101125.52it/s]"
     ]
    },
    {
     "name": "stdout",
     "output_type": "stream",
     "text": [
      "Converting to grayscale ..\n"
     ]
    },
    {
     "name": "stderr",
     "output_type": "stream",
     "text": [
      "100%|██████████| 34799/34799 [00:00<00:00, 106130.29it/s]\n",
      "  0%|          | 77/34799 [00:00<00:45, 761.13it/s]"
     ]
    },
    {
     "name": "stdout",
     "output_type": "stream",
     "text": [
      "Applying Gamma correction ..\n"
     ]
    },
    {
     "name": "stderr",
     "output_type": "stream",
     "text": [
      "100%|██████████| 34799/34799 [00:45<00:00, 764.95it/s]\n",
      "  0%|          | 20/34799 [00:00<02:58, 195.31it/s]"
     ]
    },
    {
     "name": "stdout",
     "output_type": "stream",
     "text": [
      "Normalizing ..\n"
     ]
    },
    {
     "name": "stderr",
     "output_type": "stream",
     "text": [
      " 80%|████████  | 27887/34799 [02:19<00:32, 215.61it/s]"
     ]
    },
    {
     "ename": "KeyboardInterrupt",
     "evalue": "",
     "output_type": "error",
     "traceback": [
      "\u001b[0;31m---------------------------------------------------------------------------\u001b[0m",
      "\u001b[0;31mKeyboardInterrupt\u001b[0m                         Traceback (most recent call last)",
      "\u001b[0;32m<ipython-input-21-a87951feb321>\u001b[0m in \u001b[0;36m<module>\u001b[0;34m()\u001b[0m\n\u001b[0;32m----> 1\u001b[0;31m \u001b[0mX_augmented\u001b[0m\u001b[0;34m,\u001b[0m \u001b[0my_augmented\u001b[0m \u001b[0;34m=\u001b[0m \u001b[0maugmented_dataset\u001b[0m\u001b[0;34m(\u001b[0m\u001b[0mdata_preprocessing\u001b[0m\u001b[0;34m(\u001b[0m\u001b[0mX_train\u001b[0m\u001b[0;34m)\u001b[0m\u001b[0;34m,\u001b[0m \u001b[0my_train\u001b[0m\u001b[0;34m)\u001b[0m\u001b[0;34m\u001b[0m\u001b[0m\n\u001b[0m\u001b[1;32m      2\u001b[0m \u001b[0;34m\u001b[0m\u001b[0m\n\u001b[1;32m      3\u001b[0m \u001b[0mX_valid\u001b[0m \u001b[0;34m=\u001b[0m \u001b[0mdata_preprocessing\u001b[0m\u001b[0;34m(\u001b[0m\u001b[0mX_valid\u001b[0m\u001b[0;34m)\u001b[0m\u001b[0;34m\u001b[0m\u001b[0m\n\u001b[1;32m      4\u001b[0m \u001b[0mX_test\u001b[0m \u001b[0;34m=\u001b[0m \u001b[0mdata_preprocessing\u001b[0m\u001b[0;34m(\u001b[0m\u001b[0mX_test\u001b[0m\u001b[0;34m)\u001b[0m\u001b[0;34m\u001b[0m\u001b[0m\n",
      "\u001b[0;32m<ipython-input-17-2fa099e7d422>\u001b[0m in \u001b[0;36mdata_preprocessing\u001b[0;34m(X_data)\u001b[0m\n\u001b[1;32m      9\u001b[0m     \u001b[0mX_processed\u001b[0m \u001b[0;34m=\u001b[0m \u001b[0mconvert_to_gray\u001b[0m\u001b[0;34m(\u001b[0m\u001b[0mX_processed\u001b[0m\u001b[0;34m)\u001b[0m\u001b[0;34m\u001b[0m\u001b[0m\n\u001b[1;32m     10\u001b[0m     \u001b[0mX_processed\u001b[0m \u001b[0;34m=\u001b[0m \u001b[0madjust_gamma\u001b[0m\u001b[0;34m(\u001b[0m\u001b[0mX_processed\u001b[0m\u001b[0;34m,\u001b[0m \u001b[0;36m2.2\u001b[0m\u001b[0;34m)\u001b[0m\u001b[0;34m\u001b[0m\u001b[0m\n\u001b[0;32m---> 11\u001b[0;31m     \u001b[0mX_processed\u001b[0m \u001b[0;34m=\u001b[0m \u001b[0mnormalize\u001b[0m\u001b[0;34m(\u001b[0m\u001b[0mX_processed\u001b[0m\u001b[0;34m)\u001b[0m\u001b[0;34m\u001b[0m\u001b[0m\n\u001b[0m\u001b[1;32m     12\u001b[0m \u001b[0;34m\u001b[0m\u001b[0m\n\u001b[1;32m     13\u001b[0m     \u001b[0;32mreturn\u001b[0m \u001b[0mnp\u001b[0m\u001b[0;34m.\u001b[0m\u001b[0mreshape\u001b[0m\u001b[0;34m(\u001b[0m\u001b[0mX_processed\u001b[0m\u001b[0;34m,\u001b[0m\u001b[0;34m(\u001b[0m\u001b[0mlen\u001b[0m\u001b[0;34m(\u001b[0m\u001b[0mX_processed\u001b[0m\u001b[0;34m)\u001b[0m\u001b[0;34m,\u001b[0m \u001b[0;36m32\u001b[0m\u001b[0;34m,\u001b[0m \u001b[0;36m32\u001b[0m\u001b[0;34m,\u001b[0m \u001b[0;36m1\u001b[0m\u001b[0;34m)\u001b[0m\u001b[0;34m)\u001b[0m\u001b[0;34m\u001b[0m\u001b[0m\n",
      "\u001b[0;32m<ipython-input-16-321c377a207a>\u001b[0m in \u001b[0;36mnormalize\u001b[0;34m(data)\u001b[0m\n\u001b[1;32m     14\u001b[0m             \u001b[0;32mfor\u001b[0m \u001b[0mk\u001b[0m \u001b[0;32min\u001b[0m \u001b[0mrange\u001b[0m\u001b[0;34m(\u001b[0m\u001b[0mlen\u001b[0m\u001b[0;34m(\u001b[0m\u001b[0mdata\u001b[0m\u001b[0;34m[\u001b[0m\u001b[0;36m0\u001b[0m\u001b[0;34m]\u001b[0m\u001b[0;34m[\u001b[0m\u001b[0;36m0\u001b[0m\u001b[0;34m]\u001b[0m\u001b[0;34m)\u001b[0m\u001b[0;34m)\u001b[0m\u001b[0;34m:\u001b[0m\u001b[0;34m\u001b[0m\u001b[0m\n\u001b[1;32m     15\u001b[0m                 \u001b[0;31m# normalize\u001b[0m\u001b[0;34m\u001b[0m\u001b[0;34m\u001b[0m\u001b[0m\n\u001b[0;32m---> 16\u001b[0;31m                 \u001b[0mresult\u001b[0m\u001b[0;34m.\u001b[0m\u001b[0mappend\u001b[0m\u001b[0;34m(\u001b[0m\u001b[0;34m(\u001b[0m\u001b[0;34m(\u001b[0m\u001b[0mdata\u001b[0m\u001b[0;34m[\u001b[0m\u001b[0mi\u001b[0m\u001b[0;34m]\u001b[0m\u001b[0;34m[\u001b[0m\u001b[0mj\u001b[0m\u001b[0;34m]\u001b[0m\u001b[0;34m[\u001b[0m\u001b[0mk\u001b[0m\u001b[0;34m]\u001b[0m\u001b[0;34m/\u001b[0m\u001b[0;36m255.0\u001b[0m\u001b[0;34m)\u001b[0m \u001b[0;34m-\u001b[0m \u001b[0;36m0.5\u001b[0m\u001b[0;34m)\u001b[0m\u001b[0;34m)\u001b[0m\u001b[0;34m\u001b[0m\u001b[0m\n\u001b[0m\u001b[1;32m     17\u001b[0m             \u001b[0;31m# fill up the row dimension\u001b[0m\u001b[0;34m\u001b[0m\u001b[0;34m\u001b[0m\u001b[0m\n\u001b[1;32m     18\u001b[0m             \u001b[0msecond_axis\u001b[0m\u001b[0;34m.\u001b[0m\u001b[0mappend\u001b[0m\u001b[0;34m(\u001b[0m\u001b[0mresult\u001b[0m\u001b[0;34m)\u001b[0m\u001b[0;34m\u001b[0m\u001b[0m\n",
      "\u001b[0;31mKeyboardInterrupt\u001b[0m: "
     ]
    }
   ],
   "source": [
    "X_augmented, y_augmented = augmented_dataset(data_preprocessing(X_train), y_train)\n",
    "\n",
    "X_valid = data_preprocessing(X_valid)\n",
    "X_test = data_preprocessing(X_test)"
   ]
  },
  {
   "cell_type": "markdown",
   "metadata": {},
   "source": [
    "### Pickle the augmented dataset"
   ]
  },
  {
   "cell_type": "code",
   "execution_count": null,
   "metadata": {
    "collapsed": true
   },
   "outputs": [],
   "source": [
    "\n",
    "with open(\"train_augmented.p\", 'wb') as f:\n",
    "    pickle.dump((X_augmented, y_augmented),f)\n",
    "\n",
    "with open(\"valid_processed.p\", 'wb') as f:\n",
    "    pickle.dump((X_valid, y_valid), f)\n",
    "\n",
    "with open(\"test_processed.p\", 'wb') as f:\n",
    "    pickle.dump((X_test, y_test), f)"
   ]
  },
  {
   "cell_type": "markdown",
   "metadata": {},
   "source": [
    "### Unpickle the augmented dataset files"
   ]
  },
  {
   "cell_type": "code",
   "execution_count": 22,
   "metadata": {
    "collapsed": true
   },
   "outputs": [],
   "source": [
    "training_file = \"train_augmented.p\"\n",
    "validation_file= \"valid_processed.p\"\n",
    "testing_file = \"test_processed.p\"\n",
    "\n",
    "with open(training_file, mode='rb') as f:\n",
    "    train = pickle.load(f)\n",
    "with open(validation_file, mode='rb') as f:\n",
    "    valid = pickle.load(f)\n",
    "with open(testing_file, mode='rb') as f:\n",
    "    test = pickle.load(f)\n",
    "\n",
    "X_train, y_train = train[0], train[1]\n",
    "X_valid, y_valid = valid[0], valid[1]\n",
    "X_test, y_test = test[0], test[1]"
   ]
  },
  {
   "cell_type": "markdown",
   "metadata": {},
   "source": [
    "### Train, Validate and Test the Model"
   ]
  },
  {
   "cell_type": "code",
   "execution_count": 23,
   "metadata": {
    "collapsed": true
   },
   "outputs": [],
   "source": [
    "### Training pipeline\n",
    "\n",
    "rate = 0.001\n",
    "reg_constant = 0.0005\n",
    "\n",
    "[logits, conv1_W, conv2_W, fc1_W, fc2_W, fc3_W] = LeNet(x)\n",
    "\n",
    "cross_entropy = tf.nn.softmax_cross_entropy_with_logits(labels=one_hot_y, logits=logits)\n",
    "\n",
    "regularizer = tf.nn.l2_loss(conv1_W) + tf.nn.l2_loss(conv2_W) + tf.nn.l2_loss(fc1_W) + tf.nn.l2_loss(fc2_W) + tf.nn.l2_loss(fc3_W)\n",
    "\n",
    "loss_operation = tf.reduce_mean(cross_entropy + reg_constant * regularizer)\n",
    "\n",
    "optimizer = tf.train.AdamOptimizer(learning_rate = rate)\n",
    "\n",
    "training_operation = optimizer.minimize(loss_operation)\n"
   ]
  },
  {
   "cell_type": "code",
   "execution_count": 24,
   "metadata": {
    "collapsed": true
   },
   "outputs": [],
   "source": [
    "# Accuracy calculations\n",
    "\n",
    "correct_prediction = tf.equal(tf.argmax(logits, 1), tf.argmax(one_hot_y, 1))\n",
    "accuracy_operation = tf.reduce_mean(tf.cast(correct_prediction, tf.float32))\n",
    "saver = tf.train.Saver()\n",
    "\n",
    "def evaluate(X_data, y_data):\n",
    "    num_examples = len(X_data)\n",
    "    total_accuracy = 0\n",
    "    sess = tf.get_default_session()\n",
    "    for offset in range(0, num_examples, BATCH_SIZE):\n",
    "        batch_x, batch_y = X_data[offset:offset+BATCH_SIZE], y_data[offset:offset+BATCH_SIZE]\n",
    "        accuracy = sess.run(accuracy_operation, feed_dict={x: batch_x, y: batch_y, keep_prob: 1.0})\n",
    "        total_accuracy += (accuracy * len(batch_x))\n",
    "    return total_accuracy / num_examples"
   ]
  },
  {
   "cell_type": "code",
   "execution_count": 27,
   "metadata": {
    "scrolled": true
   },
   "outputs": [
    {
     "name": "stdout",
     "output_type": "stream",
     "text": [
      "Training...\n",
      "\n"
     ]
    },
    {
     "name": "stderr",
     "output_type": "stream",
     "text": [
      "\n",
      "  0%|          | 0/816 [00:00<?, ?it/s]\u001b[A\n",
      "  0%|          | 1/816 [00:01<21:23,  1.58s/it]\u001b[A\n",
      "  1%|▏         | 12/816 [00:01<14:48,  1.11s/it]\u001b[A\n",
      "  3%|▎         | 23/816 [00:01<10:15,  1.29it/s]\u001b[A\n",
      "  4%|▍         | 34/816 [00:01<07:07,  1.83it/s]\u001b[A\n",
      "  6%|▌         | 45/816 [00:01<04:57,  2.59it/s]\u001b[A\n",
      "  7%|▋         | 56/816 [00:02<03:27,  3.67it/s]\u001b[A\n",
      "  8%|▊         | 66/816 [00:02<02:25,  5.16it/s]\u001b[A\n",
      "  9%|▉         | 77/816 [00:02<01:42,  7.21it/s]\u001b[A\n",
      " 11%|█         | 88/816 [00:02<01:12, 10.01it/s]\u001b[A\n",
      " 12%|█▏        | 99/816 [00:02<00:52, 13.76it/s]\u001b[A\n",
      " 13%|█▎        | 110/816 [00:02<00:37, 18.63it/s]\u001b[A\n",
      " 15%|█▍        | 121/816 [00:02<00:28, 24.77it/s]\u001b[A\n",
      " 16%|█▌        | 132/816 [00:02<00:21, 32.19it/s]\u001b[A\n",
      " 18%|█▊        | 143/816 [00:02<00:16, 40.75it/s]\u001b[A\n",
      " 19%|█▉        | 154/816 [00:03<00:13, 50.06it/s]\u001b[A\n",
      " 20%|██        | 165/816 [00:03<00:10, 59.58it/s]\u001b[A\n",
      " 22%|██▏       | 176/816 [00:03<00:09, 68.84it/s]\u001b[A\n",
      " 23%|██▎       | 187/816 [00:03<00:08, 77.31it/s]\u001b[A\n",
      " 24%|██▍       | 198/816 [00:03<00:07, 84.55it/s]\u001b[A\n",
      " 26%|██▌       | 209/816 [00:03<00:06, 90.62it/s]\u001b[A\n",
      " 27%|██▋       | 220/816 [00:03<00:06, 95.28it/s]\u001b[A\n",
      " 28%|██▊       | 231/816 [00:03<00:05, 98.91it/s]\u001b[A\n",
      " 30%|██▉       | 242/816 [00:03<00:05, 101.40it/s]\u001b[A\n",
      " 31%|███       | 253/816 [00:03<00:05, 103.54it/s]\u001b[A\n",
      " 32%|███▏      | 264/816 [00:04<00:05, 105.21it/s]\u001b[A\n",
      " 34%|███▎      | 275/816 [00:04<00:05, 106.06it/s]\u001b[A\n",
      " 35%|███▌      | 286/816 [00:04<00:04, 106.98it/s]\u001b[A\n",
      " 36%|███▋      | 297/816 [00:04<00:04, 107.77it/s]\u001b[A\n",
      " 38%|███▊      | 308/816 [00:04<00:04, 108.22it/s]\u001b[A\n",
      " 39%|███▉      | 319/816 [00:04<00:04, 108.46it/s]\u001b[A\n",
      " 40%|████      | 330/816 [00:04<00:04, 108.60it/s]\u001b[A\n",
      " 42%|████▏     | 341/816 [00:04<00:04, 108.66it/s]\u001b[A\n",
      " 43%|████▎     | 352/816 [00:04<00:04, 107.69it/s]\u001b[A\n",
      " 44%|████▍     | 363/816 [00:04<00:04, 105.74it/s]\u001b[A\n",
      " 46%|████▌     | 374/816 [00:05<00:04, 106.96it/s]\u001b[A\n",
      " 47%|████▋     | 386/816 [00:05<00:03, 107.85it/s]\u001b[A\n",
      " 49%|████▊     | 397/816 [00:05<00:03, 107.58it/s]\u001b[A\n",
      " 50%|█████     | 408/816 [00:05<00:03, 107.60it/s]\u001b[A\n",
      " 51%|█████▏    | 420/816 [00:05<00:03, 108.60it/s]\u001b[A\n",
      " 53%|█████▎    | 431/816 [00:05<00:03, 108.36it/s]\u001b[A\n",
      " 54%|█████▍    | 442/816 [00:05<00:03, 108.48it/s]\u001b[A\n",
      " 56%|█████▌    | 453/816 [00:05<00:03, 108.84it/s]\u001b[A\n",
      " 57%|█████▋    | 464/816 [00:05<00:03, 108.83it/s]\u001b[A\n",
      " 58%|█████▊    | 475/816 [00:05<00:03, 109.01it/s]\u001b[A\n",
      " 60%|█████▉    | 486/816 [00:06<00:03, 109.12it/s]\u001b[A\n",
      " 61%|██████    | 497/816 [00:06<00:02, 108.85it/s]\u001b[A\n",
      " 62%|██████▏   | 508/816 [00:06<00:02, 108.86it/s]\u001b[A\n",
      " 64%|██████▎   | 519/816 [00:06<00:02, 109.03it/s]\u001b[A\n",
      " 65%|██████▍   | 530/816 [00:06<00:02, 109.17it/s]\u001b[A\n",
      " 66%|██████▋   | 541/816 [00:06<00:02, 109.29it/s]\u001b[A\n",
      " 68%|██████▊   | 553/816 [00:06<00:02, 110.03it/s]\u001b[A\n",
      " 69%|██████▉   | 565/816 [00:06<00:02, 109.72it/s]\u001b[A\n",
      " 71%|███████   | 576/816 [00:06<00:02, 109.50it/s]\u001b[A\n",
      " 72%|███████▏  | 587/816 [00:07<00:02, 109.07it/s]\u001b[A\n",
      " 73%|███████▎  | 598/816 [00:07<00:02, 108.80it/s]\u001b[A\n",
      " 75%|███████▍  | 609/816 [00:07<00:01, 108.68it/s]\u001b[A\n",
      " 76%|███████▌  | 620/816 [00:07<00:01, 108.34it/s]\u001b[A\n",
      " 77%|███████▋  | 631/816 [00:07<00:01, 108.10it/s]\u001b[A\n",
      " 79%|███████▊  | 642/816 [00:07<00:01, 107.75it/s]\u001b[A\n",
      " 80%|████████  | 653/816 [00:07<00:01, 107.26it/s]\u001b[A\n",
      " 81%|████████▏ | 664/816 [00:07<00:01, 106.84it/s]\u001b[A\n",
      " 83%|████████▎ | 675/816 [00:07<00:01, 106.78it/s]\u001b[A\n",
      " 84%|████████▍ | 686/816 [00:07<00:01, 106.75it/s]\u001b[A\n",
      " 85%|████████▌ | 697/816 [00:08<00:01, 106.76it/s]\u001b[A\n",
      " 87%|████████▋ | 708/816 [00:08<00:01, 106.57it/s]\u001b[A\n",
      " 88%|████████▊ | 719/816 [00:08<00:00, 106.38it/s]\u001b[A\n",
      " 89%|████████▉ | 730/816 [00:08<00:00, 106.11it/s]\u001b[A\n",
      " 91%|█████████ | 741/816 [00:08<00:00, 106.05it/s]\u001b[A\n",
      " 92%|█████████▏| 752/816 [00:08<00:00, 105.93it/s]\u001b[A\n",
      "100%|██████████| 816/816 [00:09<00:00, 88.93it/s] \n"
     ]
    },
    {
     "name": "stdout",
     "output_type": "stream",
     "text": [
      "EPOCH 1 ...\n",
      "Validation Accuracy = 0.810\n",
      "\n"
     ]
    },
    {
     "name": "stderr",
     "output_type": "stream",
     "text": [
      "100%|██████████| 816/816 [00:07<00:00, 105.53it/s]\n"
     ]
    },
    {
     "name": "stdout",
     "output_type": "stream",
     "text": [
      "EPOCH 2 ...\n",
      "Validation Accuracy = 0.895\n",
      "\n"
     ]
    },
    {
     "name": "stderr",
     "output_type": "stream",
     "text": [
      "100%|██████████| 816/816 [00:07<00:00, 104.11it/s]\n"
     ]
    },
    {
     "name": "stdout",
     "output_type": "stream",
     "text": [
      "EPOCH 3 ...\n",
      "Validation Accuracy = 0.917\n",
      "\n"
     ]
    },
    {
     "name": "stderr",
     "output_type": "stream",
     "text": [
      "100%|██████████| 816/816 [00:07<00:00, 106.04it/s]\n"
     ]
    },
    {
     "name": "stdout",
     "output_type": "stream",
     "text": [
      "EPOCH 4 ...\n",
      "Validation Accuracy = 0.930\n",
      "\n"
     ]
    },
    {
     "name": "stderr",
     "output_type": "stream",
     "text": [
      "100%|██████████| 816/816 [00:07<00:00, 105.26it/s]\n"
     ]
    },
    {
     "name": "stdout",
     "output_type": "stream",
     "text": [
      "EPOCH 5 ...\n",
      "Validation Accuracy = 0.951\n",
      "\n"
     ]
    },
    {
     "name": "stderr",
     "output_type": "stream",
     "text": [
      "100%|██████████| 816/816 [00:07<00:00, 104.54it/s]\n"
     ]
    },
    {
     "name": "stdout",
     "output_type": "stream",
     "text": [
      "EPOCH 6 ...\n",
      "Validation Accuracy = 0.941\n",
      "\n"
     ]
    },
    {
     "name": "stderr",
     "output_type": "stream",
     "text": [
      "100%|██████████| 816/816 [00:07<00:00, 105.44it/s]\n"
     ]
    },
    {
     "name": "stdout",
     "output_type": "stream",
     "text": [
      "EPOCH 7 ...\n",
      "Validation Accuracy = 0.953\n",
      "\n"
     ]
    },
    {
     "name": "stderr",
     "output_type": "stream",
     "text": [
      "100%|██████████| 816/816 [00:07<00:00, 105.31it/s]\n"
     ]
    },
    {
     "name": "stdout",
     "output_type": "stream",
     "text": [
      "EPOCH 8 ...\n",
      "Validation Accuracy = 0.955\n",
      "\n"
     ]
    },
    {
     "name": "stderr",
     "output_type": "stream",
     "text": [
      "100%|██████████| 816/816 [00:07<00:00, 105.75it/s]\n"
     ]
    },
    {
     "name": "stdout",
     "output_type": "stream",
     "text": [
      "EPOCH 9 ...\n",
      "Validation Accuracy = 0.956\n",
      "\n"
     ]
    },
    {
     "name": "stderr",
     "output_type": "stream",
     "text": [
      "100%|██████████| 816/816 [00:07<00:00, 104.28it/s]\n"
     ]
    },
    {
     "name": "stdout",
     "output_type": "stream",
     "text": [
      "EPOCH 10 ...\n",
      "Validation Accuracy = 0.954\n",
      "\n"
     ]
    },
    {
     "name": "stderr",
     "output_type": "stream",
     "text": [
      "100%|██████████| 816/816 [00:07<00:00, 106.74it/s]\n"
     ]
    },
    {
     "name": "stdout",
     "output_type": "stream",
     "text": [
      "EPOCH 11 ...\n",
      "Validation Accuracy = 0.952\n",
      "\n"
     ]
    },
    {
     "name": "stderr",
     "output_type": "stream",
     "text": [
      "100%|██████████| 816/816 [00:07<00:00, 104.79it/s]\n"
     ]
    },
    {
     "name": "stdout",
     "output_type": "stream",
     "text": [
      "EPOCH 12 ...\n",
      "Validation Accuracy = 0.956\n",
      "\n"
     ]
    },
    {
     "name": "stderr",
     "output_type": "stream",
     "text": [
      "100%|██████████| 816/816 [00:07<00:00, 103.86it/s]\n"
     ]
    },
    {
     "name": "stdout",
     "output_type": "stream",
     "text": [
      "EPOCH 13 ...\n",
      "Validation Accuracy = 0.959\n",
      "\n"
     ]
    },
    {
     "name": "stderr",
     "output_type": "stream",
     "text": [
      "100%|██████████| 816/816 [00:07<00:00, 103.32it/s]\n"
     ]
    },
    {
     "name": "stdout",
     "output_type": "stream",
     "text": [
      "EPOCH 14 ...\n",
      "Validation Accuracy = 0.953\n",
      "\n"
     ]
    },
    {
     "name": "stderr",
     "output_type": "stream",
     "text": [
      "100%|██████████| 816/816 [00:07<00:00, 104.80it/s]\n"
     ]
    },
    {
     "name": "stdout",
     "output_type": "stream",
     "text": [
      "EPOCH 15 ...\n",
      "Validation Accuracy = 0.960\n",
      "\n"
     ]
    },
    {
     "name": "stderr",
     "output_type": "stream",
     "text": [
      "100%|██████████| 816/816 [00:07<00:00, 104.86it/s]\n"
     ]
    },
    {
     "name": "stdout",
     "output_type": "stream",
     "text": [
      "EPOCH 16 ...\n",
      "Validation Accuracy = 0.957\n",
      "\n"
     ]
    },
    {
     "name": "stderr",
     "output_type": "stream",
     "text": [
      "100%|██████████| 816/816 [00:08<00:00, 101.62it/s]\n"
     ]
    },
    {
     "name": "stdout",
     "output_type": "stream",
     "text": [
      "EPOCH 17 ...\n",
      "Validation Accuracy = 0.958\n",
      "\n"
     ]
    },
    {
     "name": "stderr",
     "output_type": "stream",
     "text": [
      "100%|██████████| 816/816 [00:07<00:00, 105.57it/s]\n"
     ]
    },
    {
     "name": "stdout",
     "output_type": "stream",
     "text": [
      "EPOCH 18 ...\n",
      "Validation Accuracy = 0.958\n",
      "\n"
     ]
    },
    {
     "name": "stderr",
     "output_type": "stream",
     "text": [
      "100%|██████████| 816/816 [00:07<00:00, 106.21it/s]\n"
     ]
    },
    {
     "name": "stdout",
     "output_type": "stream",
     "text": [
      "EPOCH 19 ...\n",
      "Validation Accuracy = 0.957\n",
      "\n"
     ]
    },
    {
     "name": "stderr",
     "output_type": "stream",
     "text": [
      "100%|██████████| 816/816 [00:07<00:00, 107.01it/s]\n"
     ]
    },
    {
     "name": "stdout",
     "output_type": "stream",
     "text": [
      "EPOCH 20 ...\n",
      "Validation Accuracy = 0.964\n",
      "\n"
     ]
    },
    {
     "name": "stderr",
     "output_type": "stream",
     "text": [
      "100%|██████████| 816/816 [00:07<00:00, 104.48it/s]\n"
     ]
    },
    {
     "name": "stdout",
     "output_type": "stream",
     "text": [
      "EPOCH 21 ...\n",
      "Validation Accuracy = 0.960\n",
      "\n"
     ]
    },
    {
     "name": "stderr",
     "output_type": "stream",
     "text": [
      "100%|██████████| 816/816 [00:07<00:00, 104.57it/s]\n"
     ]
    },
    {
     "name": "stdout",
     "output_type": "stream",
     "text": [
      "EPOCH 22 ...\n",
      "Validation Accuracy = 0.964\n",
      "\n"
     ]
    },
    {
     "name": "stderr",
     "output_type": "stream",
     "text": [
      "100%|██████████| 816/816 [00:07<00:00, 104.93it/s]\n"
     ]
    },
    {
     "name": "stdout",
     "output_type": "stream",
     "text": [
      "EPOCH 23 ...\n",
      "Validation Accuracy = 0.962\n",
      "\n"
     ]
    },
    {
     "name": "stderr",
     "output_type": "stream",
     "text": [
      "100%|██████████| 816/816 [00:07<00:00, 102.03it/s]\n"
     ]
    },
    {
     "name": "stdout",
     "output_type": "stream",
     "text": [
      "EPOCH 24 ...\n",
      "Validation Accuracy = 0.962\n",
      "\n"
     ]
    },
    {
     "name": "stderr",
     "output_type": "stream",
     "text": [
      "100%|██████████| 816/816 [00:07<00:00, 104.39it/s]\n"
     ]
    },
    {
     "name": "stdout",
     "output_type": "stream",
     "text": [
      "EPOCH 25 ...\n",
      "Validation Accuracy = 0.964\n",
      "\n"
     ]
    },
    {
     "name": "stderr",
     "output_type": "stream",
     "text": [
      "100%|██████████| 816/816 [00:07<00:00, 104.81it/s]\n"
     ]
    },
    {
     "name": "stdout",
     "output_type": "stream",
     "text": [
      "EPOCH 26 ...\n",
      "Validation Accuracy = 0.957\n",
      "\n"
     ]
    },
    {
     "name": "stderr",
     "output_type": "stream",
     "text": [
      "100%|██████████| 816/816 [00:07<00:00, 105.91it/s]\n"
     ]
    },
    {
     "name": "stdout",
     "output_type": "stream",
     "text": [
      "EPOCH 27 ...\n",
      "Validation Accuracy = 0.960\n",
      "\n"
     ]
    },
    {
     "name": "stderr",
     "output_type": "stream",
     "text": [
      "100%|██████████| 816/816 [00:07<00:00, 103.50it/s]\n"
     ]
    },
    {
     "name": "stdout",
     "output_type": "stream",
     "text": [
      "EPOCH 28 ...\n",
      "Validation Accuracy = 0.960\n",
      "\n"
     ]
    },
    {
     "name": "stderr",
     "output_type": "stream",
     "text": [
      "100%|██████████| 816/816 [00:07<00:00, 105.22it/s]\n"
     ]
    },
    {
     "name": "stdout",
     "output_type": "stream",
     "text": [
      "EPOCH 29 ...\n",
      "Validation Accuracy = 0.959\n",
      "\n"
     ]
    },
    {
     "name": "stderr",
     "output_type": "stream",
     "text": [
      "100%|██████████| 816/816 [00:07<00:00, 104.97it/s]\n"
     ]
    },
    {
     "name": "stdout",
     "output_type": "stream",
     "text": [
      "EPOCH 30 ...\n",
      "Validation Accuracy = 0.966\n",
      "\n",
      "testing accuracy = 0.940\n",
      "Model saved\n"
     ]
    }
   ],
   "source": [
    "# Shuffle training set\n",
    "\n",
    "# Training commands\n",
    "\n",
    "from sklearn.utils import shuffle\n",
    "\n",
    "with tf.Session() as sess:\n",
    "    sess.run(tf.global_variables_initializer())\n",
    "    num_examples = len(X_train)\n",
    "    \n",
    "    print(\"Training...\")\n",
    "    print()\n",
    "    for i in range(EPOCHS):\n",
    "        X_augmented, y_augmented = shuffle(X_train, y_train)\n",
    "        \n",
    "        for offset in tqdm(range(0, num_examples, BATCH_SIZE)):\n",
    "            end = offset + BATCH_SIZE\n",
    "            batch_x, batch_y = np.reshape(X_augmented[offset:end], (len(X_augmented[offset:end]), 32, 32 ,1)), y_augmented[offset:end]\n",
    "            sess.run(training_operation, feed_dict={x: batch_x, y: batch_y, keep_prob: 0.75})\n",
    "        \n",
    "        validation_accuracy = evaluate(X_valid, y_valid)\n",
    "        print(\"EPOCH {} ...\".format(i+1))\n",
    "        print(\"Validation Accuracy = {:.3f}\".format(validation_accuracy))\n",
    "        print()\n",
    "    \n",
    "    \n",
    "    testing_accuracy = sess.run(accuracy_operation, feed_dict={x: X_test, y: y_test, keep_prob: 1.0})\n",
    "    print(\"testing accuracy = {:.3f}\".format(testing_accuracy))\n",
    "    \n",
    "    saver.save(sess, './lenet')\n",
    "    print(\"Model saved\")"
   ]
  },
  {
   "cell_type": "markdown",
   "metadata": {},
   "source": [
    "### Load and Output the Test Images"
   ]
  },
  {
   "cell_type": "code",
   "execution_count": 28,
   "metadata": {
    "scrolled": true
   },
   "outputs": [
    {
     "data": {
      "image/png": "iVBORw0KGgoAAAANSUhEUgAAAP8AAAD8CAYAAAC4nHJkAAAABHNCSVQICAgIfAhkiAAAAAlwSFlz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\nQmCC\n",
      "text/plain": [
       "<matplotlib.figure.Figure at 0x7fc91014a860>"
      ]
     },
     "metadata": {},
     "output_type": "display_data"
    },
    {
     "data": {
      "image/png": "iVBORw0KGgoAAAANSUhEUgAAAP8AAAD8CAYAAAC4nHJkAAAABHNCSVQICAgIfAhkiAAAAAlwSFlz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\nQmCC\n",
      "text/plain": [
       "<matplotlib.figure.Figure at 0x7fc90e5aea90>"
      ]
     },
     "metadata": {},
     "output_type": "display_data"
    },
    {
     "name": "stdout",
     "output_type": "stream",
     "text": [
      "(32, 32, 3)\n",
      "(32, 32, 3)\n",
      "(1, 32, 32, 3)\n"
     ]
    },
    {
     "data": {
      "image/png": "iVBORw0KGgoAAAANSUhEUgAAAP8AAAD8CAYAAAC4nHJkAAAABHNCSVQICAgIfAhkiAAAAAlwSFlz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\nQiLl/wCmnMwz+gGuWgAAAABJRU5ErkJggg==\n",
      "text/plain": [
       "<matplotlib.figure.Figure at 0x7fc8be9960b8>"
      ]
     },
     "metadata": {},
     "output_type": "display_data"
    },
    {
     "data": {
      "image/png": "iVBORw0KGgoAAAANSUhEUgAAAP8AAAD8CAYAAAC4nHJkAAAABHNCSVQICAgIfAhkiAAAAAlwSFlz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\nQiLl/wCmnMwz+gGuWgAAAABJRU5ErkJggg==\n",
      "text/plain": [
       "<matplotlib.figure.Figure at 0x7fc90e5aeba8>"
      ]
     },
     "metadata": {},
     "output_type": "display_data"
    },
    {
     "name": "stdout",
     "output_type": "stream",
     "text": [
      "(32, 32, 3)\n",
      "(32, 32, 3)\n",
      "(2, 32, 32, 3)\n"
     ]
    },
    {
     "data": {
      "image/png": "iVBORw0KGgoAAAANSUhEUgAAAP8AAAD8CAYAAAC4nHJkAAAABHNCSVQICAgIfAhkiAAAAAlwSFlz\nAAALEgAACxIB0t1+/AAAH69JREFUeJztnWmQXNWZpt8v11qyqqRSaSkJIcQqAwaBqzEOGhpjN8a0\no7Enpr30BMNEEFbHhB0zjuj5wXgm2p6J/uHuGNvhHzOelgfC2OOxTRswtE20raHN4oVFbJKQmk0S\nQkiqEpJKteV+v/lRqQkhn/dUopKyBPd9IhSVOu899568eb+8mefN7zvm7hBCpI/MQg9ACLEwKPiF\nSCkKfiFSioJfiJSi4BcipSj4hUgpCn4hUoqCX4iUouAXIqXk5tPZzG4C8C0AWQD/y92/Ftu+t9Tn\ni5YsDWpukY7kLSoD3qkQ2WE+omWMa00yjlqG/0qyEXl7jf26Mtvk/bIJ14zsMomc35iWjdwf6lne\nr47wQIpZ3ilf40+66HwcCfgJaRbC/ZpZ/qRjl2IucrKid9LIdUW1hF8fnoSf84HRAxg/Oh57Cv+f\nkw5+M8sC+O8A/hjAXgBPm9mD7r6d9Vm0ZCm+8B//a1CrF/ixmoXwBdMXOd2rGnmqDSdc685wbbIv\nfLzXu+u0z1tFfmEmDf7i9k/FNL7PbDPcr5zj56oSuQoGvES1fQN8jPuylWD7uX2DtM+KPRNUu7BZ\npNqUl6l2dHV4/OMD/E2oEHmjWVLhcVVidwcAmSK/rjwXfgGa1Rrtk0zMBNtv/3cbaJ/fG1PbW/4+\nVwF41d13unsNwI8A3DKP/QkhOsh8gn8VgDeO+//eVpsQ4l3AfII/9Pnn9z4HmtkGM9tsZpunp/jH\nOiFEZ5lP8O8FsPq4/58FYN+JG7n7RncfcfeR3lL/PA4nhDiVzCf4nwZwgZmtNbMCgM8CePDUDEsI\ncbo56dl+d2+Y2RcB/AKzVt9d7v5irE/GDF1k1jPiAFEbMDYrG3HDUHZuKTUjlsw06ZZELJl8nY/E\narF+XMucRAEWj1hbST6iVbmT0dPg/S7oWxxsLx94i/bp7umj2pFpPvPdPThAtXItPCueqXD3oBA5\nV3njF2o2chFnI/1q5PWsNxu0T8XDWvIOro15+fzu/hCAh+azDyHEwqBf+AmRUhT8QqQUBb8QKUXB\nL0RKUfALkVLmNdv/TslkDN2FsNVHkq+i5CIWWxLZ36RFjMAMt7bKxEbxJrdxitytQb7CLccenquC\nXCQhqE4SeCJ5TqhHtHydn4+V4HZZqR62yw5GnnPSw491uIe/Zv0lfhkbyRgrRZK7BvL8efXnuFaM\n3EubJMsRABrN8POuRgzraZLambC0zgC68wuRUhT8QqQUBb8QKUXBL0RKUfALkVI6OttvAHIk+aEQ\nSUgwMqufidTia0ZmPSdyfBa1Hnk7ZHkshUihvp4aP1bPDNfyfOI7mrRUI5PRSSRxKpbY09fNZ+d7\nJyepZrtHg+3rloZrOALArvo01aorePLO0YT3G+4L9xtEF+2zKN9Nte5IOa5Yzb16xDVpOnlFCzw8\nq6TcXJJpq3wfAN35hUgtCn4hUoqCX4iUouAXIqUo+IVIKQp+IVJKR60+ALBm2DqKLU/FnLnYEl+x\nVWim8pHVa7KRJbSYIxO18/j+uqu8X4asvAMAlULE4qRKZJmpSC5IX4bXzjv0wlaqVbfvDbYPfOiD\ntM+iS/myDwf6ucU2Xa1SDfmwx9nbjKzaBK5lwD1Tj9jLeYssRZYL244FnkOEXCY8DosVwzwB3fmF\nSCkKfiFSioJfiJSi4BcipSj4hUgpCn4hUsq8rD4z2w1gErMOU8PdR2Lbe5KgXq0EtUwk7cySsE3V\njFl2ERuwnOX9qpG3wx7i1uQill2hwrVckw+yHrEcY5mHTVKfMFfnxQRLkTTBmUNvUO3V3z5Otewr\nB4PtmQovTrj2os9QbTSSFTcwwBeArU+F+9WJ5QwAlYTbm5lIyGQidmohslxXoRDWuop8f8V82I7M\nRK7tEzkVPv+H3Z0vwCaEOCPRx34hUsp8g98B/NLMnjGzDadiQEKIzjDfj/3XuPs+M1sGYJOZ/bO7\nP3b8Bq03hQ0AMLhkaJ6HE0KcKuZ153f3fa2/YwDuB3BVYJuN7j7i7iOlEl9/XQjRWU46+M2s18z6\njj0GcCOAbadqYEKI08t8PvYvB3C/mR3bz/9x93+MdXAHGg1iRUWy2OoWfo+KuDWoRbKvwmbjLMlJ\nrOSVr/Cx5yJjJA4mAKAcydybLkbS8EiKXqyQaBd5TQBg+28eodrMwf1U65meCbbvfWkH7VN47nmq\ndZUup1rvYv510km6aCVWMDZSIjWb8Be0i1ynAACShQcAuVxYy2UiNnESWQeuTU46+N19JwD+iggh\nzmhk9QmRUhT8QqQUBb8QKUXBL0RKUfALkVI6XMDTkRBLrxnJiGLvUfVIplQ9sr8k4e95uYiD0lUN\njz3Pk8DgEe9wmi8Xh3G+XByqhUjB0EbYihqY4RbVkjLf3y+eeJJqF/atoJoNhvfZAD/BLz/2W6p9\n6ILzqFZazvdZLfWE2yNrIXrk2umJVI312L00G1njj6yvl4l4wbl6+PySpM7w/tvfVAjxXkLBL0RK\nUfALkVIU/EKkFAW/ECmlo7P9iQM1Nvud4UPJZsNaNVKvrBxLqIlk9hSafJ/dtbBWBE8S8UgdtvHs\nJNXGjM9gDy5ZRLXuI+GEmiWRGni/ufOHVOtz/ro0evgM9sC6JcH2sZ2jtI+/vo9qex/i9QIvLw1S\nreuKi8L76+LnY6bBl//qzvN6gUcP8tdzJpL0Y6QW5a794SXPACBbDJ/7pNZ+wo/u/EKkFAW/EClF\nwS9ESlHwC5FSFPxCpBQFvxAppbOJPWZIrBCUqhluGxmxAasR+ySWKBRbJqtQj/RrhLV6g9sr01lu\nKdX7w0knAFAc5OPYO8YtsbWlZcH2LQ//nPYpvHWYat7Nk6fOev8lVPvAtdcF2+/7u+/RPvbyIaq9\n8tCvqHbpZeupVli7PCwMFWmfcsQWrWR4Flexm1/DYwfDy5cBQK0e9qWj1+lUuE8midR3PHHbtrcU\nQrynUPALkVIU/EKkFAW/EClFwS9ESlHwC5FS5rT6zOwuAJ8AMObul7baBgH8GMA5AHYD+LS7H5lr\nX44MmpmwxZLE6vERS68WqXGWJPypFSIZf1aP2Iekn0csnimfolr3Ip6dd7TGraEVJZ5Ztnd7eDms\nsV27aJ/CYW71rfqji6l21vorqfbc4QPB9qtuuZn2+ae/3ki1CyOZe4/d8xOqvf/sUrC97zq+2FQt\nH1k6rs5TQvNdYRsbAMqR4nrTlXKwfVnXAO2Dw+S6OsVW33cB3HRC2x0AHnb3CwA83Pq/EOJdxJzB\n7+6PATjx1nALgLtbj+8G8MlTPC4hxGnmZL/zL3f3/QDQ+hv+WZkQ4ozltE/4mdkGM9tsZpunp46e\n7sMJIdrkZIN/1MyGAaD1d4xt6O4b3X3E3Ud6S5EJDCFERznZ4H8QwG2tx7cBeODUDEcI0Snasfp+\nCOB6AENmthfAVwB8DcA9ZnY7gD0A/qydgzkMVQ/bYvWIRVEjmXY141Zfxvn+Mg1uK1YiBTwnPGzX\nVGNvoaWw1QQARw6NU607sm7YILht9MQ/PRJsX5rwopS5QZ7htu6a66lW7u2jGnLh9cbKUzwr7oM3\n30i1ff/3CaqN7dlNtRd+sSnYPrJ2Ke2zbPUw1Y5OTlCtbnz9tdxAL9Xy5OXMN7mFXJshnd7Bcl1z\nBr+7f45IH2n/MEKIMw39wk+IlKLgFyKlKPiFSCkKfiFSioJfiJTS8bX6yiQTr+7ctmN5VEmkTzaS\n8YeIDdhkawkCmCSZWfUpnrm3amAx1Sb20t9G4X3LeMbfK48+wvf52hvBdrIcHABg/Uf/gGrdF6yj\n2kwv3+nKVeHnfejVV2mftdfxcWzf/AzVmpHl6d7auj3YvnfTo7TPZX/KMw+nwVNCxxrhdRIBoLt/\niGrZQthqrR3lT6xQCFupFilqeyK68wuRUhT8QqQUBb8QKUXBL0RKUfALkVIU/EKklI5afQ6g2iDF\nOBEpmkikiGMHJPx9rRbpN5XhVl/Nwmu4NcAz1eqj4UKWAHDlohVUm3lmK9WmngoX6QSA/mp4/KVz\neQHMNTeOUO2NAW45bn8pbKMBwPM//Wmw/V99+hba56DxYi+X/fnHqbbp7+6m2qpyuDjm6Kbf0D7V\n886nWs/71lItYel5AMrOr5EMuVSbkaK2/UvC1mE2135I684vREpR8AuRUhT8QqQUBb8QKUXBL0RK\n6exsv/MEnnqk9hhL4DHns6GIaLVIzs9UZFmlo5mwTZAv8GWauib4DHbBeO28PY8/R7Whw2HXAQCG\nV4QdhNXXrqd9Di/i52rT1m1Ue/je+6n2+j+H3QpP+Kz3Jz71x1Rbdtk5VLv0j7hbMfPI88H23K79\ntM/Oh7kTMLScV6DOr1lOtfEKX+ZrINMT3l+RX1cAqRcYqWt5IrrzC5FSFPxCpBQFvxApRcEvREpR\n8AuRUhT8QqSUdpbrugvAJwCMufulrbavAvg8gIOtzb7s7g/NtS+HUdvO0b5FcYwsuEVlkaSIhFh2\nAFDJ8HFMZ8P9Ms6tt/OHllDtmX98jGpLjvB6cH6QLxn1/ms/FGxffPFFtM9vxnZT7X/c+UuqFae4\nfbVyMGx73XtfOOEHAHKrwnXpAOCmqz9AtZEPX0u1px/ZEmzvq/D6eC/9li8NVr/mEqrhbL5SfbnK\nl0sbzIbtQ8vy5bqOjIevgWaz/fW62rnzfxfATYH2b7r7+ta/OQNfCHFmMWfwu/tjAA53YCxCiA4y\nn+/8XzSzLWZ2l5nx+tRCiDOSkw3+bwM4D8B6APsBfJ1taGYbzGyzmW2uTPOfugohOstJBb+7j7p7\n090TAN8BcFVk243uPuLuI129/HfRQojOclLBb2bDx/33UwB49ocQ4oykHavvhwCuBzBkZnsBfAXA\n9Wa2HrNl+XYD+It2DuboRs0vD2or+3iGW7E7bKXtqx0MtgPA3ulxqjWa/Gk3srxmXS0btmvW9HLr\ncPjll6hWepQvQbVynC/lNb5uKdV6b/5osH26/zzaZ+99h6jWM8XrBfb19VFtrBHO3vMBbg9ue5Mv\n5fWxVR+j2kvVfVRb9ufh8/Hy9x+kfdZk+POa+N8PUO3i/l6qFS48i2r7CuEMwzfy3OrLlcLXcLkQ\nWbvsxH3MtYG7fy7QfGfbRxBCnJHoF35CpBQFvxApRcEvREpR8AuRUhT8QqSUjhbwzKOKZbYzqGXG\neWHH3iRcrHBdDx9+fz68TBMAjCY8Y67RxYsmriFJZ8uOcqvs6AubqDZdf41qmWGelXjZv+AZbm/6\n3mC757ht1LyIn3t7gGvdaFKtKx8+j7nIsmxLqvw5903xfou7uT276sKLg+2Zi8PXIQDs38LtTeen\nES/+8nGqre7lVuWiUinYXieFPQHAiJWaPcVZfUKI9yAKfiFSioJfiJSi4BcipSj4hUgpCn4hUkpn\nrb58gtXLJ4Pa4VFulxWb4SyrFeDFMXMJL5jYzIXHAAAo8ffD1R62UWrPPEL7HHnxWaqVh/gwjoys\npdrOSKHLjfd/P9g+GlnD7aXRUapdtuwCqo0d4P2y2fDxVizl69nteXI31f7ztr+i2oBzG/ALN/1p\nsP3Ka6+nffbt51XrJqa5hTy5+RWqLT3vMqqdden7g+3jkQUsmxYO3WxTa/UJIeZAwS9ESlHwC5FS\nFPxCpBQFvxAppaOz/bmuHBavWxHUKn08oSaZDtf3m5rhfSpV/tS6B3iNtqxPU613VzhpZuoRPqPf\ndZgnxtRGLqXawI2foNq+XORly5wdbG7Wp3ifLHc/9vFSiOgZWEO1vIUzYKplPoPd1RVOcAGA887n\nrkOxwGf76+eElymbWcrrIPZfx2f7dz/6O6p5jd9Ldz65i2orloedgELEoakVyTXQfl6P7vxCpBUF\nvxApRcEvREpR8AuRUhT8QqQUBb8QKaWd5bpWA/gegBWYNRI2uvu3zGwQwI8BnIPZJbs+7e5HojvL\nZmGL+4PS4u5B2q16INy+79W3aJ+y8fpnpVy4JiAA5PfzZJWpR58Ptg8d4kskVft4Ikuy7oNUyw1e\nQrXFNW5x/psPrw62d63kNtqdj/+Uao8/z5e1ynTzcRyZDNdJzHBXDh+/6gaq3fr5f021g+VIUlhf\nuC7gyxPczst/aB3VksiSYtXX+LWz56UXqbbsqfA1snI9TwZqZsLXnJHksxDt3PkbAP7S3d8H4GoA\nXzCziwHcAeBhd78AwMOt/wsh3iXMGfzuvt/dn209ngSwA8AqALcAuLu12d0APnm6BimEOPW8o+/8\nZnYOgCsAPAlgubvvB2bfIAAsO9WDE0KcPtoOfjMrAbgXwJfcfeId9NtgZpvNbPPkYf49SwjRWdoK\nfjPLYzbwf+Du97WaR81suKUPAwguKO/uG919xN1H+gb5pJ4QorPMGfxmZgDuBLDD3b9xnPQggNta\nj28D8MCpH54Q4nTRTlbfNQBuBbDVzI55XV8G8DUA95jZ7QD2APizuXaUaTZQPBK2ZRb3hLP9AOCt\nXNjW2J/ly25ZkddaG5jg31qyz22h2uQzT4ePleHLVvVdch7Vlv9BeCkpANgzzse4qMJtu36y5NWa\nPj4lMzjGs/pqyX6qoYcvr1WrHA22Vyd51uQM83QB1MpcO3T4dapVyvVgeyFSq3HpWTybbvXV/Drd\ndfBlquXHKlR76YmfhY91bsSuLoY/RWc8/HxDzBn87v5rAOxsfKTtIwkhzij0Cz8hUoqCX4iUouAX\nIqUo+IVIKQp+IVJKZwt41hMMjYYLSXb18l//HTocto08G8nmKnBrBVu3UcmefIJqPdPhLMLx8wdo\nnyU3rKJaZRW3CHNv8PNRBF+KrEJs0Z2j3BZNKpFkzAa35j568zV8nxa2AX9+/z/QPoePvEm1viJP\nBzx36WKqvVEN/vYMk87tzYkMt/pWrFtJtWTnWXyfVW4DHjmwM9i+a9tvaZ+zWcZfkxeMPRHd+YVI\nKQp+IVKKgl+IlKLgFyKlKPiFSCkKfiFSSketvozn0VMdDmq1OrdyjoyHbapp43ZeATyr7+irPAus\nsOsg1XJD4fXdsjdeRfs0PnIF1Z7ezcexCr1UK3fzl614djh777ldYTsJAOqlcFFVAPjMrbdT7eO3\nfIZq47WwHXlwkr/Oixv8eb31Jn+tJ8bDVjAA9CwP27DTEUes3MWLYCYlbuuuvoxfB89u48U9QWzM\nzU/toF16l54TbG/UuX18IrrzC5FSFPxCpBQFvxApRcEvREpR8AuRUjo621/3AsYa4USXQw2eXJIs\nDS9BNZjlM+Kv/IwvMzX0Cp95XZENz+gDwIqRDwTbm1f/Ie3z0hE+rTwYWaJshRepljeuHaqFXY7B\npTzp5E9uWEO1tYv4klwHDvEZeLaA2Sf/5LO0z2CF1wTsP8pn4Icj10FjOjyTvnyI1+LbX+bXh2V5\n0s/KVZdSrecG/tye+cVjwfaDo+GkJADY+kg4Oa08yV2uE9GdX4iUouAXIqUo+IVIKQp+IVKKgl+I\nlKLgFyKlzGn1mdlqAN8DsAJAAmCju3/LzL4K4PMAjmXCfNndH4rta7paxe9e2xPUfIgnJOSL4bp/\n5ddfoH36tvOkiCUTvH7boiFeD66rL2zNVV4fp31W7okknUxwezNT5XX6ajluvyEbXuKpp9JHuxRn\nItZh8zWqVbv4OBKiTSd52ic3ze2w7gluseVnIok4FrZaj+TC1xQATBZ43cLpbp6YVE34GPFmuP4j\nAPTPhOs1Fhv8Gug6HE5AyzWYyRrYto1tGgD+0t2fNbM+AM+Y2aaW9k13/29tH00IccbQzlp9+wHs\nbz2eNLMdAHhJWiHEu4J39J3fzM4BcAWAJ1tNXzSzLWZ2l5nxz8tCiDOOtoPfzEoA7gXwJXefAPBt\nAOcBWI/ZTwZfJ/02mNlmM9s8PR2pDy+E6ChtBb+Z5TEb+D9w9/sAwN1H3b3p7gmA7wAIljFx943u\nPuLuI729+nAgxJnCnMFvZgbgTgA73P0bx7UfX4/rUwD4MjhCiDOOdmb7rwFwK4CtZvZ8q+3LAD5n\nZusBOIDdAP5izj1lE2T7wjZbOcctscyRsD1Y+/XPaZ81r2yl2lA1YteUFlFt5/Zw9lX5Gb4UVmmG\nf9Wp1flyY/uL3G4qF/l7tmXC9fiKFV57LlsN24MAAN9OpUqpm2oTXWGt0uRW31jE6puI2JGLY4ls\njXqwuVyKXAO8pCHKPdySHneewVmK1Khc3Ag/78EstzAxGT5W9h0s19XObP+vAYQMzKinL4Q4s9Ev\n/IRIKQp+IVKKgl+IlKLgFyKlKPiFSCkdLeDplqBOMqYmKwdoPxvfG2zPvLaL9lk8ze23eo6/5+0q\ncmtulBRUPGeaZ3P117g1VO0L21AAMFrg1tBUge+zqxHOMEwssoxTjtuKw93cfkucjz/fCJ+TTJbv\nL1fihTib+S6q1Xp4dmExG77Ey9PhTDoAqEVuiZWInVd2fo4rXTzUPB+2WvsiDmwyGc74S8o8E/BE\ndOcXIqUo+IVIKQp+IVKKgl+IlKLgFyKlKPiFSCkdtfpqCbCLOBEZ8KyzlX2XBNu7LvoY7dO9gmcJ\njnXxIofN4RLVlmXDdtPSw9zqGzJuQ00u4llb+f4JqsH4Gnn5engshYS/1E3n94Cuo9wSmz7Ci2B2\nJeEsvN4lZ9M++f7lVKsmPINwmmTFAUCSC79mg0WeXdjI8uujmuN2XjkfKZ4Zuc3mmuHXzLiTih5m\npX73b3mn9ockhHgvo+AXIqUo+IVIKQp+IVKKgl+IlKLgFyKldNTqS3IFVJecG9S6jvL18xJil2Uv\nHw62A8DRIrfRpvp5ZlatyLXeXNhu2j8aWdstw9fIm4pkzB3I8XHUwStWZjJhu6np3B5sJlx7+ekn\nqTaV588tk4Qz9JLeC2mf3MrwtQEAh3t4Vc2j4OcRHr7EeyJ9cjXusVmWZ1s2u/i9tBYpxpk0wvZh\nV+TeXLKwlVopcKv6RHTnFyKlKPiFSCkKfiFSioJfiJSi4Bcipcw5229mXQAeA1Bsbf8Td/+Kma0F\n8CMAgwCeBXCre6TAGQBkDEZqmRVHeaLFzNHwDOtUN08EORiZ0Y8tJj419gbVepLwLHumxGei9+R4\nwpI1eM26whSfjV4MnkBStHBCU3lyJ+0zcXCUaraXL9fVXeWXT74annWuzPCxNxBJmrnwfKpNLeLn\neIbM3PfX+PldVOfjyNf5rD33AQCPODtZVt/PeJ+ah8fhmdgo3k47d/4qgBvc/XLMLsd9k5ldDeBv\nAHzT3S8AcATA7W0fVQix4MwZ/D7LsdzNfOufA7gBwE9a7XcD+ORpGaEQ4rTQ1nd+M8u2VugdA7AJ\nwGsAxt392Ge4vQBWnZ4hCiFOB20Fv7s33X09gLMAXAXgfaHNQn3NbIOZbTazzdUJXhhCCNFZ3tFs\nv7uPA3gEwNUAFpnZsZmKswDsI302uvuIu48U+wfnM1YhxClkzuA3s6Vmtqj1uBvARwHsAPArAP+y\ntdltAB44XYMUQpx62knsGQZwt5llMftmcY+7/8zMtgP4kZn9NYDnANw5556SOnw6vCzXsPG1iVYU\nw9poP6+P90bCa/gNOK+5N9DgVtTZpXBizz7wRJDpHLeGemb4OIaPcOtzKGKoVsvh2n+7X+WW3Vs7\nePLO8p7fUW1xxDMtTIdr543v3EH7VMrBD4+z+xviyUel/tVUazbDtl0/+LWzLHJPLNb59VGp8KWy\nms5fz2JX2CrOGQ/P2kz4fGSSSOG/E/c/1wbuvgXAFYH2nZj9/i+EeBeiX/gJkVIU/EKkFAW/EClF\nwS9ESlHwC5FSzL39LKB5H8zsIIDXW/8dAvBWxw7O0Tjejsbxdt5t41jj7kvb2WFHg/9tBzbb7O4j\nC3JwjUPj0Dj0sV+ItKLgFyKlLGTwb1zAYx+PxvF2NI63854dx4J95xdCLCz62C9ESlmQ4Dezm8zs\nJTN71czuWIgxtMax28y2mtnzZra5g8e9y8zGzGzbcW2DZrbJzF5p/Y2UGT2t4/iqmb3ZOifPm9nN\nHRjHajP7lZntMLMXzezft9o7ek4i4+joOTGzLjN7ysxeaI3jv7Ta15rZk63z8WMzso5du7h7R/8B\nyGK2DNi5AAoAXgBwcafH0RrLbgBDC3Dc6wBcCWDbcW1/C+CO1uM7APzNAo3jqwD+Q4fPxzCAK1uP\n+wC8DODiTp+TyDg6ek4AGIBS63EewJOYLaBzD4DPttr/J4B/O5/jLMSd/yoAr7r7Tp8t9f0jALcs\nwDgWDHd/DMCJNc1uwWwhVKBDBVHJODqOu+9392dbjycxWyxmFTp8TiLj6Cg+y2kvmrsQwb8KwPHF\n8Rey+KcD+KWZPWNmGxZoDMdY7u77gdmLEMCyBRzLF81sS+trwWn/+nE8ZnYOZutHPIkFPCcnjAPo\n8DnpRNHchQj+UPmahbIcrnH3KwF8HMAXzOy6BRrHmcS3AZyH2TUa9gP4eqcObGYlAPcC+JK7h0sS\nLcw4On5OfB5Fc9tlIYJ/L4Dj6y7R4p+nG3ff1/o7BuB+LGxlolEzGwaA1t+xhRiEu4+2LrwEwHfQ\noXNiZnnMBtwP3P2+VnPHz0loHAt1TlrHfsdFc9tlIYL/aQAXtGYuCwA+C+DBTg/CzHrNrO/YYwA3\nAtgW73VaeRCzhVCBBSyIeizYWnwKHTgnZmaYrQG5w92/cZzU0XPCxtHpc9KxormdmsE8YTbzZszO\npL4G4D8t0BjOxazT8AKAFzs5DgA/xOzHxzpmPwndDmAJgIcBvNL6O7hA4/g+gK0AtmA2+IY7MI4/\nxOxH2C0Anm/9u7nT5yQyjo6eEwCXYbYo7hbMvtH81XHX7FMAXgXw9wCK8zmOfuEnRErRL/yESCkK\nfiFSioJfiJSi4BcipSj4hUgpCn4hUoqCX4iUouAXIqX8P5UdV+mNMGGfAAAAAElFTkSuQmCC\n",
      "text/plain": [
       "<matplotlib.figure.Figure at 0x7fc8be815e48>"
      ]
     },
     "metadata": {},
     "output_type": "display_data"
    },
    {
     "data": {
      "image/png": "iVBORw0KGgoAAAANSUhEUgAAAP8AAAD8CAYAAAC4nHJkAAAABHNCSVQICAgIfAhkiAAAAAlwSFlz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\n",
      "text/plain": [
       "<matplotlib.figure.Figure at 0x7fc8be83cac8>"
      ]
     },
     "metadata": {},
     "output_type": "display_data"
    },
    {
     "name": "stdout",
     "output_type": "stream",
     "text": [
      "(32, 32, 3)\n",
      "(32, 32, 3)\n",
      "(3, 32, 32, 3)\n"
     ]
    },
    {
     "data": {
      "image/png": "iVBORw0KGgoAAAANSUhEUgAAAP8AAAD8CAYAAAC4nHJkAAAABHNCSVQICAgIfAhkiAAAAAlwSFlz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\n",
      "text/plain": [
       "<matplotlib.figure.Figure at 0x7fc90e54a710>"
      ]
     },
     "metadata": {},
     "output_type": "display_data"
    },
    {
     "data": {
      "image/png": "iVBORw0KGgoAAAANSUhEUgAAAP8AAAD8CAYAAAC4nHJkAAAABHNCSVQICAgIfAhkiAAAAAlwSFlz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\n",
      "text/plain": [
       "<matplotlib.figure.Figure at 0x7fc8be7802b0>"
      ]
     },
     "metadata": {},
     "output_type": "display_data"
    },
    {
     "name": "stdout",
     "output_type": "stream",
     "text": [
      "(32, 32, 3)\n",
      "(32, 32, 3)\n",
      "(4, 32, 32, 3)\n"
     ]
    },
    {
     "data": {
      "image/png": "iVBORw0KGgoAAAANSUhEUgAAAP8AAAD8CAYAAAC4nHJkAAAABHNCSVQICAgIfAhkiAAAAAlwSFlz\nAAALEgAACxIB0t1+/AAAIABJREFUeJztnXmQXNWV5r+TW+2ralWptCCEFgQIKBYbjMEGWs3YjfEY\njz2YIHpo5PE0E2OHZ8Ge6bZ7uieG7rDNEJ5u23LDNLRZzWIwNmazm8Vmk0ASArFKhbZSqUqqKtW+\nZJ75o1IOId3vqbRlCb/vF6FQ1v3y5rt58518mffLc665O4QQ8SMx3QMQQkwPCn4hYoqCX4iYouAX\nIqYo+IWIKQp+IWKKgl+ImKLgFyKmKPiFiCmpI+lsZssB3AwgCeAf3f3GqPvX1dT43JaWoJYz3m8s\nHX6P8gQfvoE/YDLiYKkcHwf7NaSl+eONg/+CMoeIg0X0i5gqOsZsRKeo33gmI7WIeSRa1NUmG/Fr\n02xUv6gJIUdMRZwD6agHHBnnWi7i9Szi5+o4OekGwI81kQqPcVf7dgx090TOyF4OO/jNLAng7wFc\nAmArgJfN7GF3f4P1mdvSglU/vT+oDWT4xG1rLA+2j5bX0T4ppKlWO8hPweohPm8+PhpsTzQV0z6d\niXAfABjAENUs4o0hleOhME60wRQPrJGIkKzO8n41yQzVZpD5z0S80wxkJ6jWE/EW1Z/kr5nlioLt\ndSN87E19EW95b3dwbZi/1pjPz9XOmvB58FxyB+2zqzb8mv2vti/yMezHkXzsPxvAu+6+0d3HANwN\n4PIjeDwhRAE5kuBvAbBln7+35tuEEB8CjiT4Q5+1DvhsZmYrzGyVma3q2t1zBIcTQhxNjiT4twJo\n3efvWQC2738nd1/p7m3u3lZfW3MEhxNCHE2OJPhfBrDAzOaZWQbAFwA8fHSGJYQ41hz2ar+7T5jZ\n9QAew6QjdKu7vx7ZyYAsOWI5sQABYGZxeOV4+0jE6qrz1XI3vjqfLebvh2W14X5jEW+hRVk+xhLn\nq/b14KvRGIhwcrZ0B5u7O/gq9Z4h7jp4KV/5Hu4bpNrO8fBza2pspH2qTpjNtaZaqvWluLMzmAyP\nf8zGaJ9dxs+dGYuaqYbhESp1DXTxfqmwm3VqzTza5fW+zcH2dJQnuv9hp37XA3H3XwL45ZE8hhBi\netAv/ISIKQp+IWKKgl+ImKLgFyKmKPiFiClHtNp/qIwlE+ioLg1qM4u4/VYyFra2GsZ5skeyInwc\nABG5UsDAKLdr0kkyXWPcKmu0iEyW7WFbDgB2/ctqqu1+6mWqDb/WHmyf6OqlfcaGuO310vAWqjVX\nz6DajIqKYHt7eQntU3xiK9UaP3421eouOJNqNfPmBNsT5fwHZ50T/VQbSXPrNlXPz+HhQX68itJw\n8lFrjtusmT3h+S3NRuVhfhBd+YWIKQp+IWKKgl+ImKLgFyKmKPiFiCkFXe3PpVLYMyOcoJEa5CvO\nDWPhxI2aCIegd4KXhOpL8hX9oiKeGZEaGw62J3bspn12/PZ3VFvzi8eptueFdVSr38oTalpHwy/p\njIhEoVTEadA4dy7VerZ3Ui1H5iRZzl2YzW++SbVnH3mIahVnnUK1hX/0yWD7kuWX0j4NpyyiWkea\nn1cbR/qoVlfJnZFKUvLM3uf1L+bsKQu2Z7JTv57ryi9ETFHwCxFTFPxCxBQFvxAxRcEvRExR8AsR\nUwpq9TkSGE+ELYqh0QHaL5EKJz4gx22XTTvbqZabwW2v+RluHyY2hOumvXXL3bTPhl8/S7Wt775N\nteaKaqqV1oRrvgFA965wUkpfRDpTbWM91V7cvJ6PI2Izr6p0+DUrS/HXbFZNFdUqi3hiTPe2nVR7\n+8d3Btt7XlhL+1z6tf9AtdkXtPFxgD+33gluA1ZmK4PtNSMRtRp3E0t6ImrztQ+iK78QMUXBL0RM\nUfALEVMU/ELEFAW/EDFFwS9ETDkiq8/M2gH0A8gCmHB37oPs7UOciGREvTLPhrdPGkrwTMBMNa8V\nV1nErb6JdTyzbN13bg+2d979GO1THbFtWK4ybPEAQG8Zf1/eVcyfd2lr2LarbG2iffpauLao+qNU\nq8+EbVsAGHr/gD1bAQBrfvci7bN100aqVZSGa9YBQFMJn0dml40/za2+V/tuptri66+m2ulXXEK1\nHSl+ztlE+ByxCm7poovUEoxwB/fnaPj8F7k7r0QphDgu0cd+IWLKkQa/A3jczFab2YqjMSAhRGE4\n0o/957n7djNrAPCEmb3p7s/se4f8m8IKAGiezbdgFkIUliO68rv79vz/OwE8COCAnRXcfaW7t7l7\nW009/w25EKKwHHbwm1mZmVXsvQ3gUgA8C0QIcVxxJB/7GwE8aGZ7H+dOd/9VVAfLAcWkdmZpkmfT\nDY2GC2eihNtos0p4htiebW9R7Z3b76fawE8eCbaflaqjfTpL+Ri3VvEssO75vODjggs/QrWPfWp5\nsL1u6ULaZzTF/aFMjhc09R6+rVViPGzdLhjm2YU7n3+Bak/edR/Vtr3CX8+FufB5dVKG24Prn+FF\nV9dn+XycOYNnHjZeeA7VBorCGZAj5fzanJlFzu/M1EP6sIPf3TcCOO1w+wshphdZfULEFAW/EDFF\nwS9ETFHwCxFTFPxCxJSCFvBMAGBb4VWXc7vJPaylIgp45vr3UG39XWHLDgA67vwF1doQ3mdubIJn\n2W1J82zFsk/yjLnP/UeePXbCacuoNjIeHsvmPXw+cqU84yxbHN5HDgCqZvBswFQ/sWeNtANouOLT\nVPu3F3+Cautvu4dqz9/4o2D7DHBreX4Z/zFa++vvUO3ZH/4/qp0SMcfV55wZbO8t5eFZVBoefzY9\n9bQ+XfmFiCkKfiFiioJfiJii4Bcipij4hYgpBV3tNwMyZOetMb5wDx8Kr1Rnknz4o6t4guEb/3gv\n1c4Y5avbyXS4AOH7xXxFv/TyC6i27H/wbaGyc1uo9s6OHqq1ZsLJJbNTs2if3DCf/Ff7+bGa6vkY\n+4Y7g+3VtXwlvSvLnYDSBl4vcOlX/pRq9Y1hR+K5v/4+7WPd4bEDQNPsVqqtfo4nBJWevohq559x\nSrC9P8OvzVsnwtvbjYEnku2PrvxCxBQFvxAxRcEvRExR8AsRUxT8QsQUBb8QMaWgVp8bMEbebvrG\neD24xmLSaVsH7bPjyWepVtc1SDVkeQLG6xgKto+dcSrtc/E3uJ3XM3cu1TZu5c/t5LJmqhU72eKp\nK2wNAUCCbKEGAC31/Fgju8iWUQAqctXBdh8iXi+ATAXfYq2TWFsAUFbObcC6fxVOCFrQEd5ODADe\nuO2nVNvetYtqpWwvOgC7VvPtwbpWvxpsL//IAcWwf09PKpwhZxFj2B9d+YWIKQp+IWKKgl+ImKLg\nFyKmKPiFiCkKfiFiykGtPjO7FcCnAOx096X5tloA9wCYC6AdwOfdnad/5XEAE8mwFTGSDdtoADCz\nLGy/jbdvon3WPPYk1ZKjZM8wALtKeQ20t2vCNtUffY3X2xtZwLPphkhtQgBY1LyAarURGZDDG3eH\nhajabmU8k7GczD0AjPXwDLKKqvB1ZZQ7ukhzFxBj/fxYfQlu3ZaSLbROvfpK2mfHmxuo9t4Dj1Ot\nuaiCar0vrePH+/WLwfZlZ55B+1Rlwq8nzy89kKlc+f8JwP4bwN0A4Cl3XwDgqfzfQogPEQcNfnd/\nBsD+l5PLAdyWv30bgM8c5XEJIY4xh/udv9HdOwAg/3/D0RuSEKIQHPMFPzNbYWarzGzV7q6uY304\nIcQUOdzg7zSzZgDI/7+T3dHdV7p7m7u31dbzEk5CiMJyuMH/MIBr8revAfDQ0RmOEKJQTMXquwvA\nhQDqzGwrgG8BuBHAvWZ2LYDNALhvsu9jAUiyAoPEuojStrS/S7t0buI24OzS8LZbALC5hPtoxR8/\nK9h+0uWX0D59EdtCNY/w6S8b5NlZ42N8e7BcS9humqjkdl4XeMac93MbrbqSZ9P1kFqcOe6yojzi\nbJxfWUm1gSTXEiAHbKijfRaefw7VOp54jmr1Y3yOJzr6qDb86pthoYv3qZoZfs6HYvUdNPjd/YtE\n+uQhHEcIcZyhX/gJEVMU/ELEFAW/EDFFwS9ETFHwCxFTCrtXHxxpYvWVlHBLDCPhjL+tG7mdF5Eg\nhlREplqnh/cFBIAL//jjwXYHtykf+YdbqOYbeCJkYw23ohJzuLYhEy4w2V3M98H79JU8NWNmBS/g\nuWuYj/+eO+8Ltif49KJ/C8lIBNBQG87OA4DRFM8I3TW0Jdj+5asup30WnsMLZ86aN49qRet5UdCm\nCX6dzb6/Iyxs4UVcS2ZWBdsP5WquK78QMUXBL0RMUfALEVMU/ELEFAW/EDFFwS9ETCms1edA8WjY\n6suk+VB8IGzl7N60mfapT/HMvWJeCxLZ3DjVli09Odjet/F93sd55tvS5RG5UWUR1ucMPsYLTw5n\ne61e9zvap/+xR6nm54b3ugOA3t3ct8uEnShc+5XraJ8y7kaiLCJdbc9unir4ZsfrwfYHH7uf9rnh\n33+Zai0LTqBa18vceq5IcPO5sztsmXZ3dtI+ZbYo2B5xah+ArvxCxBQFvxAxRcEvRExR8AsRUxT8\nQsSUgq72J91Qlgsf0sb4CrYNh+vqTXTyxJLakSzVisb56nBNBa/DVkYchI3PrqJ9Xrn1YaqV166l\nWqallmrPGHc5vCU8vxW7eNn0pk5eK67lrAuo9rOfhZN3AOAnPw87CG++9Q7tM7SNJ+hUewnVRid4\nncGeA/abmWRzxxu0zw1/dhXVilubqDaU4Gvt1SV8/H3DYZtj5yDf26wK4ZjIgtd+3B9d+YWIKQp+\nIWKKgl+ImKLgFyKmKPiFiCkKfiFiylS267oVwKcA7HT3pfm2bwO4DsBe/+ib7v7Lgz8WUJwKZ2hM\nRGzjhFy4Rp4NjtIumUFuHaYj3vJqq7jVh6Hw8Z6+j29V2NjHs1VefeVJqnWA2149i8upNpQIW1vN\nb22lfRZbeIsvAEBE8tS6X/GEoDdeei3cvonXuUMHf87JFMkUAuDE9gKAXAl5zAQ/1jtdvHZesoIn\nXOWK+bljKZ7YM4zw9mv9Ec/LPXx+Txxlq++fACwPtN/k7svy/w4a+EKI44uDBr+7PwOQX0oIIT60\nHMl3/uvNbJ2Z3WpmvK6yEOK45HCD/wcA5gNYBqADwHfZHc1shZmtMrNVXd38J6ZCiMJyWMHv7p3u\nnnX3HIAfA6C7HLj7Sndvc/e2+rr6wx2nEOIoc1jBb2b7buNyBYD1R2c4QohCMRWr7y4AFwKoM7Ot\nAL4F4EIzWwbAAbQD4EXP9mEEwBu5sBXRWsHtq+JNpE/VbNqnGmQLJAAlGb691ppxnuGGynCm4MKP\nnkS79G5+kWpLT+JbP9WNhe0fAGiv43ZTsvXMYHsizS27GRV8HtHUQKUTzvso1Yo3toeF0nCNQQBo\nql9AtfoEPz929fJad3tKBoLto0W8/qBV8IKBQ0XcSts80ku1moZGqoVHCOSquL3Za+FzOBuxddz+\nHDT43f2LgWa+AZ0Q4kOBfuEnRExR8AsRUxT8QsQUBb8QMUXBL0RMKWgBz5QB9amwFUEcQABAekY4\n66zp1IW0z/ZnXqBac3FEMcgxnkk12he2h5ZcfjHt839+8RzVrvz+/6Tagjpusc3v3ki1mW1Lg+1P\nfeeHtM9bb3Or7NRKvt3YOZeG8r0mKbv9wWD7ht/xn4TUGt9i7f13tlBt3qmtVPv69/4y2P7iml/T\nPic2zqLao2vD238BQBl3Z5Hs52mrFSTNdHaWW7olufBcFR/C9VxXfiFiioJfiJii4Bcipij4hYgp\nCn4hYoqCX4iYUuC9+oBqsp1ZX8T+edmacPHD1BJu8bSn+OPVlvJsqcQQz+h67unng+1LVnyJ9ll+\n819Q7fVS7g2V10UUb1xyGn/MsXBhypJLPkL7tH6cF5fcXMpt0eEUtwFvvfFHwfb6Hl7kMtfH99yb\nO4PbbyO8Visuu+yyYHvbYn7uoINn/LU/w/dlPLmCF7Qa2cMfs6E1/Nxaqrjdi55wIKUmtFefEOIg\nKPiFiCkKfiFiioJfiJii4BciphR0td8ApMlqvyfC9fEAoD8TXsEcmsNXV3ua+RZU3RP8WE0ltVRb\nff9TwfaPXcdLGC4+8zyq7QKZDADtA9wJKInYkqkqEx7/SWfy1f46y1Dt+WQ31ZaeGuEgNJNV/XZe\n5y5Rw+c+F1F3cecwr7s4f064PuHFC3jdwrduCjsVAOCbeG3I2tYlVHt7gPc74ayTw8K8FtpncE9P\nsD2X5ef2/ujKL0RMUfALEVMU/ELEFAW/EDFFwS9ETFHwCxFTprJdVyuA2wE0AcgBWOnuN5tZLYB7\nAMzF5JZdn3f3sP/w+wcDQBygdIK/D2XJMCsWzaF9Gi44i2rv/fxZqp1Y00y1ba+Fa929+nd30j4L\n//TzVPOZPHHDnSfblI1zrdrCE1wxyC2g3u3chuo9gduKi0rqqPbamleD7acsOp32yRof4/bMKNVG\neO4RZiVJHbxXeC2+t//5EaotyFRTbUfvLqr1zea2dNMVF4aFep4EtaN/ONg+zvPSDmAqV/4JAF93\n98UAzgXw52a2BMANAJ5y9wUAnsr/LYT4kHDQ4Hf3Dnd/JX+7H8AGAC0ALgdwW/5utwH4zLEapBDi\n6HNI3/nNbC6A0wG8CKDR3TuAyTcIABHJx0KI440pB7+ZlQO4H8BX3Z1XJjiw3wozW2Vmq7q6ug5n\njEKIY8CUgt/M0pgM/Dvc/YF8c6eZNef1ZgA7Q33dfaW7t7l7W319/dEYsxDiKHDQ4DczA3ALgA3u\n/r19pIcBXJO/fQ2Ah47+8IQQx4qpZPWdB+BqAK+Z2Zp82zcB3AjgXjO7FsBmAFdO5YBZ8nZjEZl2\nmVTYbpoxdx7ts3j5RVR7NKIO28xxnmm3JBe2ebpv/RXtc868ZVSrvoRbZXUzyqk2kuN+Tmo0XNAu\nk+G2UaaW21f1JTzjr3ucZx4uOD9s6U3w6cVru/m2YVZZSbWqBM/4K94W/qr59F/dTPtUbOig2twa\n/po92d1OtcbPXsiPd1F4rjYl+fxONIStQ09N3es7aPC7+3OYdOhDfHLKRxJCHFfoF35CxBQFvxAx\nRcEvRExR8AsRUxT8QsSUghbwzAEYI0Ur0xEWW/EwySwr5dltc87hWX1z/+RiqnX8/AWqLU6EM8Sq\ndvCMsztW/DeqXXXn/6Va+uyTqPbWHv5LySWnhLfy6hnghTNRyqWhbD/VinPcBhytCmsdPbtpn5b5\nM6m2Y3Q71cY3b6Paz//m+8H23C+epn3OAN+GbGSIv9YNpyym2umfDW8bBgDeQH78FrH1ViUZYxJT\nt/p05Rcipij4hYgpCn4hYoqCX4iYouAXIqYo+IWIKQW1+hzAGHm/qUpyewX9A+H2kRHapWwOz/g7\n80ufo9oDz6+jWuOusO0113nG3InF/Hn97+tWUO3cb/wZ1S766nVU6x8IZ6RNJLlt5OWkyCWApRHW\nUUTdTBQNh2u5Jsa5dZjpCRelBIDse+9S7Sf/5S+o1rT2/WD7UuOvixXzZ7ZuKFi2AgBw8p/wYq2z\nLjifal0T4fam9AzaZ6JrKNiejEqb3A9d+YWIKQp+IWKKgl+ImKLgFyKmKPiFiCkFXe3PwtGDcF2y\n9DCv4VfKtlyKSHzoHgyvhgJAw2mnUO3f/NevUW3tN8J137o38USbZJInH80u4y7BMz/6EdXWP/Uo\n1c65NFxZbeF5Z9M+6Ra+qlzaSZaiAYC/ZEBveFV/8I0NtMvzv32eattffYNq83sGqdZKXKTd3k37\ntBfx82puxPZrs6/6FNV6y7mDMDYRDkMf4iv3FcXhbKxExLZ3B9x3yvcUQvxBoeAXIqYo+IWIKQp+\nIWKKgl+ImKLgFyKmHNTqM7NWALcDaMJkGb6V7n6zmX0bwHUA9vpc33T3X0Y91gQcvcQfSkzwJJ3Z\nrMhcCS8+ZxHbFiVLuMXWsixcAw8A6q/7UrD9oRu/S/tkc7uoBufTvyyiPl5qdTvVNv3mpmD72kpu\nOeZmcqvvhBHeb6iPJ+mMkWSs4rGounT8dTk5wsJKRWxFNlAePt82t1bQPi3/+hKqNf07vivd0CKe\nTNZDalcCQMrCz62siD9ntpMXn93AcadwnwkAX3f3V8ysAsBqM3sir93k7t85hOMJIY4TprJXXweA\njvztfjPbAKDlWA9MCHFsOaTv/GY2F8DpAF7MN11vZuvM7FYzC28bKoQ4Lply8JtZOYD7AXzV3fcA\n+AGA+QCWYfKTQfCLr5mtMLNVZraqt4v/pFIIUVimFPxmlsZk4N/h7g8AgLt3unvW3XMAfgwg+ONx\nd1/p7m3u3lZdz/c2F0IUloMGv5kZgFsAbHD37+3T3rzP3a4AsP7oD08IcayYymr/eQCuBvCama3J\nt30TwBfNbBkm3YV2AF+eygFzxIwYSHIrZIDYdiXFfPgTIzwbbWhwnGpF9Q1Uy3z6omD7lWfOpX0e\nf+AOqv324YeoNq+Dj/+ikllUayivDrZvz/HH27KLz/1YR7gGHgBUpbgdWUZs2MpSXi8wkeNG1WCW\npxB2lfFrWHtD2KpcvIJn59Uv/xjVkvMXUm13xBh9lGslxeF5HDbaBX0kXsYj+uzPVFb7nwMQeshI\nT18IcXyjX/gJEVMU/ELEFAW/EDFFwS9ETFHwCxFTClrAMwGghFh9qQwfSpZooxGjn8jx97XxsVGq\nFUe8HSaby4Ptu2Y00j4t86+i2qWX8gzC8Z/9lmpbHl1LtY7u8HZdgxleQHJPBc9wS7fWU23AuX21\ndSKcdjY8zIud5lL8Ba1fsoBqCz99MdWWXPrRsHDqibTPSIrPR+8QLwxb1M0t5JklPHMySWzA3Umy\nTR2ARCV5PQ/B6tOVX4iYouAXIqYo+IWIKQp+IWKKgl+ImKLgFyKmFNTqS7qjcjxsAWUiMsQSxFKa\nGOdFOtPpiOyxIq4NJLhd0+PhzLhtxh8vk+aWUu38VqrVn3I61eo+u5tqeD9cMPSl996hXdZt4loC\n3NpKRWToVTaGazfMmc2fc0Mr1yoj+qXmzqTaaHPYht0xwbMcK5z7ZbUjvGhsi/PzESP8/MZoeI7L\ni/kYM5XhcfBSpgeiK78QMUXBL0RMUfALEVMU/ELEFAW/EDFFwS9ETCms1QegxsI2ShHZrwwAsiNh\n+21olNtyyQy3oYwnbWEowiwZyYYfs28PH0eijGsescdc2QK+71tu9mJ+vLGwpdSW5fbVScYLZxZh\nkGojWf7ccqnw61lUFs6MBIB0kttow1QB+iL2wRsiaW6pUZ7ZWZmppFpN1OXS+WOCnMMAgER4/GUJ\nnjU5NkD2gIwo1HrAYad8TyHEHxQKfiFiioJfiJii4Bcipij4hYgpB13tN7NiAM8AKMrf/z53/5aZ\nzQNwN4BaAK8AuNrdw1k7ex8LjmQufJdkRM295Eh4NTo3xlfLxyLe1oZGuBaxXotKhLd+uqCab+E0\nMdxHtSxJcgKAJNnCCQC6M1xzC7+k6UQZ7VOc4k6Aga98F5N6jADgRMtGbGk1NMBXxEcjtlhLRzg0\ntelwrbt5tdzyGYs4P4adOwujRXweUyl+ZpWUkpM1Yju6wZHweZXN8fndn6lc+UcBfMLdT8PkdtzL\nzexcAH8L4CZ3XwCgB8C1Uz6qEGLaOWjw+yR7y4im8/8cwCcA3Jdvvw3AZ47JCIUQx4Qpfec3s2R+\nh96dAJ4A8B6AXvffJ7hvBdBybIYohDgWTCn43T3r7ssAzAJwNoDQT8yCX/LMbIWZrTKzVV3d5FdJ\nQoiCc0ir/e7eC+BfAJwLoNrs96tLswBsJ31Wunubu7fV1/GNC4QQheWgwW9m9WZWnb9dAuBiABsA\n/AbA5/J3uwbAQ8dqkEKIo89UEnuaAdxmZklMvlnc6+6PmNkbAO42s78B8CqAWw72QNlcFgNDYYsi\nSerjAUCKJNQURySCpCOKmQ1G5D5E1UBrSocttuQmXlMvGbV/UkTyUbaSvzR7SsKWIwCMJcOaj/Bx\njPdSCVUzImzFiFwVmyCWWER9PIxzGw3ZCC0X8Zg5Mo97eJfeQX4sr+DXy0wNPx97x7gFl8iFk6cq\ni/nzSpeELUwjCVUhDhr87r4OwAHVJN19Iya//wshPoToF35CxBQFvxAxRcEvRExR8AsRUxT8QsQU\nc+eZWUf9YGZdAN7P/1kHoLtgB+doHB9E4/ggH7ZxzHH3+qk8YEGD/wMHNlvl7m3TcnCNQ+PQOPSx\nX4i4ouAXIqZMZ/CvnMZj74vG8UE0jg/yBzuOafvOL4SYXvSxX4iYMi3Bb2bLzewtM3vXzG6YjjHk\nx9FuZq+Z2RozW1XA495qZjvNbP0+bbVm9oSZvZP/v2aaxvFtM9uWn5M1ZnZZAcbRama/MbMNZva6\nmf2nfHtB5yRiHAWdEzMrNrOXzGxtfhx/lW+fZ2Yv5ufjHjPjKZdTwd0L+g+TW/a9B+AEABkAawEs\nKfQ48mNpB1A3Dce9AMAZANbv0/Z3AG7I374BwN9O0zi+DeA/F3g+mgGckb9dAeBtAEsKPScR4yjo\nnAAwAOX522kAL2KygM69AL6Qb/8hgK8cyXGm48p/NoB33X2jT5b6vhvA5dMwjmnD3Z8BsH8RgMsx\nWQgVKFBBVDKOguPuHe7+Sv52PyaLxbSgwHMSMY6C4pMc86K50xH8LQC27PP3dBb/dACPm9lqM1sx\nTWPYS6O7dwCTJyGAhmkcy/Vmti7/teCYf/3YFzObi8n6ES9iGudkv3EABZ6TQhTNnY7gD5UnmS7L\n4Tx3PwPAHwP4czO7YJrGcTzxAwDzMblHQweA7xbqwGZWDuB+AF9194haOwUfR8HnxI+gaO5UmY7g\n3wqgdZ+/afHPY427b8//vxPAg5jeykSdZtYMAPn/d07HINy9M3/i5QD8GAWaEzNLYzLg7nD3B/LN\nBZ+T0Dima07yxz7korlTZTqC/2UAC/IrlxkAXwDwcKEHYWZlZlax9zaASwGsj+51THkYk4VQgWks\niLo32PJcgQLMiZkZJmtAbnD37+0jFXRO2DgKPScFK5pbqBXM/VYzL8PkSup7AP77NI3hBEw6DWsB\nvF7IcQBtubjCAAAAhUlEQVS4C5MfH8cx+UnoWgAzADwF4J38/7XTNI5/BvAagHWYDL7mAozjfEx+\nhF0HYE3+32WFnpOIcRR0TgCcismiuOsw+Ubzl/ucsy8BeBfATwEUHclx9As/IWKKfuEnRExR8AsR\nUxT8QsQUBb8QMUXBL0RMUfALEVMU/ELEFAW/EDHl/wMB9uETCuRFpgAAAABJRU5ErkJggg==\n",
      "text/plain": [
       "<matplotlib.figure.Figure at 0x7fc8be6f1dd8>"
      ]
     },
     "metadata": {},
     "output_type": "display_data"
    },
    {
     "data": {
      "image/png": "iVBORw0KGgoAAAANSUhEUgAAAP8AAAD8CAYAAAC4nHJkAAAABHNCSVQICAgIfAhkiAAAAAlwSFlz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\n",
      "text/plain": [
       "<matplotlib.figure.Figure at 0x7fc8be6d8f28>"
      ]
     },
     "metadata": {},
     "output_type": "display_data"
    },
    {
     "name": "stdout",
     "output_type": "stream",
     "text": [
      "(32, 32, 3)\n",
      "(32, 32, 3)\n",
      "(5, 32, 32, 3)\n"
     ]
    }
   ],
   "source": [
    "### Load the images and plot them here.\n",
    "import os\n",
    "import matplotlib.image as mpimg\n",
    "from PIL import Image\n",
    "from resizeimage import resizeimage\n",
    "import matplotlib.pyplot as plt\n",
    "import numpy as np\n",
    "\n",
    "test_set = []\n",
    "test_images_path = \"test-set/\"\n",
    "test_images = os.listdir(test_images_path)\n",
    "\n",
    "i=0\n",
    "for image in test_images:\n",
    "    with open(test_images_path+image, 'r+b') as f:\n",
    "        with Image.open(f) as test_image:\n",
    "            plt.imshow(test_image)\n",
    "            plt.show()\n",
    "            cover = resizeimage.resize_cover(test_image, (32, 32, 3))\n",
    "            plt.imshow(cover)\n",
    "            plt.show()\n",
    "            cover.save(test_images_path+image, test_image.format)\n",
    "            print(np.shape(cover))\n",
    "            test_set.append(np.copy(cover))\n",
    "            print(np.shape(test_set[i]))\n",
    "    i+=1\n",
    "    print(np.shape(test_set))\n"
   ]
  },
  {
   "cell_type": "markdown",
   "metadata": {},
   "source": [
    "## Preprocess new images"
   ]
  },
  {
   "cell_type": "code",
   "execution_count": 29,
   "metadata": {
    "scrolled": false
   },
   "outputs": [
    {
     "name": "stderr",
     "output_type": "stream",
     "text": [
      "100%|██████████| 5/5 [00:00<00:00, 12858.07it/s]\n",
      "100%|██████████| 5/5 [00:00<00:00, 11287.15it/s]\n",
      "100%|██████████| 5/5 [00:00<00:00, 905.62it/s]\n",
      "100%|██████████| 5/5 [00:00<00:00, 211.31it/s]"
     ]
    },
    {
     "name": "stdout",
     "output_type": "stream",
     "text": [
      "Applying Gaussian Blur ..\n",
      "Converting to grayscale ..\n",
      "Applying Gamma correction ..\n",
      "Normalizing ..\n"
     ]
    },
    {
     "name": "stderr",
     "output_type": "stream",
     "text": [
      "\n"
     ]
    }
   ],
   "source": [
    "test_set = data_preprocessing(test_set)\n"
   ]
  },
  {
   "cell_type": "markdown",
   "metadata": {},
   "source": [
    "### Predict the Sign Type for Each Image"
   ]
  },
  {
   "cell_type": "code",
<<<<<<< HEAD
<<<<<<< HEAD
   "execution_count": 31,
   "metadata": {
    "collapsed": false,
    "scrolled": true
   },
=======
   "execution_count": 47,
   "metadata": {},
>>>>>>> 3b8b7fa49a341644f4918bd8d0445f9e91d62648
=======
   "execution_count": 47,
   "metadata": {},
>>>>>>> 3b8b7fa49a341644f4918bd8d0445f9e91d62648
   "outputs": [
    {
     "name": "stdout",
     "output_type": "stream",
     "text": [
      "[ 3 33 11 17  9]\n",
      "[[  4.91998553e-10   6.19757969e-08   2.41669462e-04   9.99745786e-01\n",
      "    9.38122023e-15   1.20746372e-05   6.00706862e-09   2.75026529e-11\n",
      "    6.58587559e-11   1.97870929e-08   3.83277611e-11   1.31982576e-11\n",
      "    1.92714226e-14   3.69309444e-11   2.79280700e-12   1.44157141e-07\n",
      "    3.14905518e-10   1.55289081e-15   2.46755018e-16   2.98027292e-09\n",
      "    7.93877724e-12   1.06091331e-13   2.10415534e-13   3.19081694e-09\n",
      "    4.94591835e-13   4.73020657e-13   4.61902313e-15   1.51933367e-14\n",
      "    5.28518740e-09   5.47838610e-08   4.53998059e-13   7.73823117e-10\n",
      "    4.56928967e-10   1.45525522e-10   5.90944982e-09   1.05947478e-07\n",
      "    7.17518656e-10   3.24403346e-13   1.08900025e-07   9.79465207e-12\n",
      "    1.89234242e-14   8.53336932e-13   2.28958389e-12]\n",
      " [  1.81438663e-05   2.92737689e-03   1.14208276e-04   2.34539824e-04\n",
      "    4.64084479e-07   1.05609467e-06   7.47820668e-05   8.69835712e-05\n",
      "    3.47303882e-07   2.24402160e-04   7.30749298e-06   2.86821829e-04\n",
      "    2.28992775e-07   5.67960087e-04   2.45290175e-05   3.29731847e-06\n",
      "    1.49315936e-04   5.28292640e-06   2.00908126e-08   2.39114638e-06\n",
      "    2.53609613e-08   1.11904581e-06   1.79494236e-07   1.03611988e-07\n",
      "    1.89899527e-08   3.08926005e-08   1.50415576e-06   9.11937320e-07\n",
      "    2.04717489e-05   5.41806777e-08   3.10424402e-05   2.28291319e-09\n",
      "    8.88316936e-06   9.91830289e-01   2.14299682e-04   2.80487468e-03\n",
      "    3.05860840e-06   1.00780089e-04   1.54928546e-06   2.18967587e-04\n",
      "    3.10592295e-05   8.81691903e-07   5.10646828e-07]\n",
      " [  1.11631829e-17   3.52441817e-13   5.74193817e-12   6.22998874e-15\n",
      "    6.98279680e-22   1.71269096e-14   5.83294835e-09   1.15856294e-12\n",
      "    6.56665032e-19   4.88631437e-17   2.04148052e-14   9.99994516e-01\n",
      "    4.84508440e-12   9.43737005e-14   4.32957525e-19   1.10159695e-17\n",
      "    1.52333168e-09   5.33587050e-15   6.66225478e-11   8.95438501e-10\n",
      "    1.05045844e-12   5.32982760e-08   5.24889377e-17   1.44733406e-10\n",
      "    3.27539475e-14   2.98888789e-13   2.06367922e-13   2.21202254e-06\n",
      "    3.56088625e-09   8.40706088e-16   3.07382288e-06   1.66602450e-13\n",
      "    1.55978481e-15   8.76418369e-08   5.93820132e-12   1.02191300e-13\n",
      "    6.31245273e-14   3.59490146e-11   2.52051573e-15   1.03700306e-12\n",
      "    2.80442478e-08   5.23225181e-13   4.89612257e-12]\n",
      " [  9.41293649e-07   2.07404982e-09   2.13925320e-14   1.53677557e-10\n",
      "    3.04964554e-10   1.25828280e-15   2.85415558e-09   1.27706667e-12\n",
      "    3.85775589e-09   5.50338227e-05   1.84153492e-08   2.56083621e-09\n",
      "    2.13985558e-08   4.02478983e-09   8.26616906e-06   4.47475878e-13\n",
      "    1.17933689e-06   9.99916315e-01   4.86133711e-09   1.66167773e-08\n",
      "    4.32300666e-08   8.22264548e-11   2.08285769e-06   5.24987875e-08\n",
      "    7.43122198e-14   6.20876753e-11   3.42945334e-08   3.52758751e-12\n",
      "    1.00150785e-08   2.76222351e-10   4.41342507e-07   9.90353979e-12\n",
      "    1.43431623e-06   6.93951904e-07   1.02512217e-06   1.04846232e-09\n",
      "    1.34168886e-06   5.46377095e-08   3.10506977e-07   6.23970607e-07\n",
      "    3.07191499e-06   6.87665988e-06   5.04973885e-09]\n",
      " [  2.08823410e-13   3.26287150e-17   1.72643367e-15   6.64482054e-12\n",
      "    4.45588315e-12   5.98339263e-14   9.68992139e-16   4.08357459e-10\n",
      "    1.06770202e-08   9.99934316e-01   1.86832062e-06   1.49705905e-15\n",
      "    3.08210679e-11   3.18316256e-13   1.82698867e-09   5.15324285e-12\n",
      "    5.87246032e-05   4.99162888e-06   2.46115011e-14   1.91445124e-10\n",
      "    3.33159589e-09   2.98863366e-17   3.00956590e-12   1.07491190e-10\n",
      "    9.40461446e-19   3.04446643e-16   5.15383791e-10   1.17491167e-15\n",
      "    1.03530483e-11   2.42821795e-13   1.22394990e-14   1.11175986e-16\n",
      "    3.82896270e-10   5.68188161e-12   1.36016948e-10   9.42698870e-12\n",
      "    1.90097355e-10   5.94582196e-12   1.11957776e-09   2.92422170e-10\n",
      "    1.91797200e-09   1.60018587e-07   1.33305198e-11]]\n"
     ]
    }
   ],
   "source": [
    "### Run the predictions here and use the model to output the prediction for each image.\n",
    "### Make sure to pre-process the images with the same pre-processing pipeline used earlier.\n",
    "### Feel free to use as many code cells as needed.\n",
    "\n",
    "with tf.Session() as sess:\n",
    "    saver.restore(sess,'./lenet')\n",
    "    predicted_logits=sess.run(logits,feed_dict={x:test_set, keep_prob: 1})\n",
    "    predicted_prob=sess.run(tf.nn.softmax(predicted_logits))\n",
    "    predicted_labels = np.argmax(predicted_logits, axis=1)\n",
    "    print(predicted_labels)\n",
    "    print(predicted_prob)"
   ]
  },
  {
   "cell_type": "markdown",
   "metadata": {},
   "source": [
    "### Analyze Performance"
   ]
  },
  {
   "cell_type": "code",
   "execution_count": 37,
   "metadata": {
    "collapsed": true
   },
   "outputs": [],
   "source": [
    "### Calculate the accuracy for these 5 new images. \n",
    "\n",
    "\n",
    "### For example, if the model predicted 1 out of 5 signs correctly, it's 20% accurate on these new images."
   ]
  },
  {
   "cell_type": "markdown",
   "metadata": {},
   "source": [
    "### Output Top 5 Softmax Probabilities For Each Image Found on the Web"
   ]
  },
  {
   "cell_type": "markdown",
   "metadata": {},
   "source": [
    "For each of the new images, print out the model's softmax probabilities to show the **certainty** of the model's predictions (limit the output to the top 5 probabilities for each image). [`tf.nn.top_k`](https://www.tensorflow.org/versions/r0.12/api_docs/python/nn.html#top_k) could prove helpful here. \n",
    "\n",
    "The example below demonstrates how tf.nn.top_k can be used to find the top k predictions for each image.\n",
    "\n",
    "`tf.nn.top_k` will return the values and indices (class ids) of the top k predictions. So if k=3, for each sign, it'll return the 3 largest probabilities (out of a possible 43) and the correspoding class ids.\n",
    "\n",
    "Take this numpy array as an example. The values in the array represent predictions. The array contains softmax probabilities for five candidate images with six possible classes. `tf.nn.top_k` is used to choose the three classes with the highest probability:\n",
    "\n",
    "```\n",
    "# (5, 6) array\n",
    "a = np.array([[ 0.24879643,  0.07032244,  0.12641572,  0.34763842,  0.07893497,\n",
    "         0.12789202],\n",
    "       [ 0.28086119,  0.27569815,  0.08594638,  0.0178669 ,  0.18063401,\n",
    "         0.15899337],\n",
    "       [ 0.26076848,  0.23664738,  0.08020603,  0.07001922,  0.1134371 ,\n",
    "         0.23892179],\n",
    "       [ 0.11943333,  0.29198961,  0.02605103,  0.26234032,  0.1351348 ,\n",
    "         0.16505091],\n",
    "       [ 0.09561176,  0.34396535,  0.0643941 ,  0.16240774,  0.24206137,\n",
    "         0.09155967]])\n",
    "```\n",
    "\n",
    "Running it through `sess.run(tf.nn.top_k(tf.constant(a), k=3))` produces:\n",
    "\n",
    "```\n",
    "TopKV2(values=array([[ 0.34763842,  0.24879643,  0.12789202],\n",
    "       [ 0.28086119,  0.27569815,  0.18063401],\n",
    "       [ 0.26076848,  0.23892179,  0.23664738],\n",
    "       [ 0.29198961,  0.26234032,  0.16505091],\n",
    "       [ 0.34396535,  0.24206137,  0.16240774]]), indices=array([[3, 0, 5],\n",
    "       [0, 1, 4],\n",
    "       [0, 5, 1],\n",
    "       [1, 3, 5],\n",
    "       [1, 4, 3]], dtype=int32))\n",
    "```\n",
    "\n",
    "Looking just at the first row we get `[ 0.34763842,  0.24879643,  0.12789202]`, you can confirm these are the 3 largest probabilities in `a`. You'll also notice `[3, 0, 5]` are the corresponding indices."
   ]
  },
  {
   "cell_type": "code",
   "execution_count": 38,
   "metadata": {
    "collapsed": true
   },
   "outputs": [],
   "source": [
    "### Print out the top five softmax probabilities for the predictions on the German traffic sign images found on the web. \n",
    "### Feel free to use as many code cells as needed."
   ]
  },
  {
   "cell_type": "markdown",
   "metadata": {},
   "source": [
    "### Project Writeup\n",
    "\n",
    "Once you have completed the code implementation, document your results in a project writeup using this [template](https://github.com/udacity/CarND-Traffic-Sign-Classifier-Project/blob/master/writeup_template.md) as a guide. The writeup can be in a markdown or pdf file. "
   ]
  },
  {
   "cell_type": "markdown",
   "metadata": {},
   "source": [
    "> **Note**: Once you have completed all of the code implementations and successfully answered each question above, you may finalize your work by exporting the iPython Notebook as an HTML document. You can do this by using the menu above and navigating to  \\n\",\n",
    "    \"**File -> Download as -> HTML (.html)**. Include the finished document along with this notebook as your submission."
   ]
  },
  {
   "cell_type": "markdown",
   "metadata": {},
   "source": [
    "---\n",
    "\n",
    "## Step 4 (Optional): Visualize the Neural Network's State with Test Images\n",
    "\n",
    " This Section is not required to complete but acts as an additional excersise for understaning the output of a neural network's weights. While neural networks can be a great learning device they are often referred to as a black box. We can understand what the weights of a neural network look like better by plotting their feature maps. After successfully training your neural network you can see what it's feature maps look like by plotting the output of the network's weight layers in response to a test stimuli image. From these plotted feature maps, it's possible to see what characteristics of an image the network finds interesting. For a sign, maybe the inner network feature maps react with high activation to the sign's boundary outline or to the contrast in the sign's painted symbol.\n",
    "\n",
    " Provided for you below is the function code that allows you to get the visualization output of any tensorflow weight layer you want. The inputs to the function should be a stimuli image, one used during training or a new one you provided, and then the tensorflow variable name that represents the layer's state during the training process, for instance if you wanted to see what the [LeNet lab's](https://classroom.udacity.com/nanodegrees/nd013/parts/fbf77062-5703-404e-b60c-95b78b2f3f9e/modules/6df7ae49-c61c-4bb2-a23e-6527e69209ec/lessons/601ae704-1035-4287-8b11-e2c2716217ad/concepts/d4aca031-508f-4e0b-b493-e7b706120f81) feature maps looked like for it's second convolutional layer you could enter conv2 as the tf_activation variable.\n",
    "\n",
    "For an example of what feature map outputs look like, check out NVIDIA's results in their paper [End-to-End Deep Learning for Self-Driving Cars](https://devblogs.nvidia.com/parallelforall/deep-learning-self-driving-cars/) in the section Visualization of internal CNN State. NVIDIA was able to show that their network's inner weights had high activations to road boundary lines by comparing feature maps from an image with a clear path to one without. Try experimenting with a similar test to show that your trained network's weights are looking for interesting features, whether it's looking at differences in feature maps from images with or without a sign, or even what feature maps look like in a trained network vs a completely untrained one on the same sign image.\n",
    "\n",
    "<figure>\n",
    " <img src=\"visualize_cnn.png\" width=\"380\" alt=\"Combined Image\" />\n",
    " <figcaption>\n",
    " <p></p> \n",
    " <p style=\"text-align: center;\"> Your output should look something like this (above)</p> \n",
    " </figcaption>\n",
    "</figure>\n",
    " <p></p> \n"
   ]
  },
  {
   "cell_type": "code",
   "execution_count": 39,
   "metadata": {
    "collapsed": true
   },
   "outputs": [],
   "source": [
    "### Visualize your network's feature maps here.\n",
    "### Feel free to use as many code cells as needed.\n",
    "\n",
    "# image_input: the test image being fed into the network to produce the feature maps\n",
    "# tf_activation: should be a tf variable name used during your training procedure that represents the calculated state of a specific weight layer\n",
    "# activation_min/max: can be used to view the activation contrast in more detail, by default matplot sets min and max to the actual min and max values of the output\n",
    "# plt_num: used to plot out multiple different weight feature map sets on the same block, just extend the plt number for each new feature map entry\n",
    "\n",
    "def outputFeatureMap(image_input, tf_activation, activation_min=-1, activation_max=-1 ,plt_num=1):\n",
    "    # Here make sure to preprocess your image_input in a way your network expects\n",
    "    # with size, normalization, ect if needed\n",
    "    # image_input =\n",
    "    # Note: x should be the same name as your network's tensorflow data placeholder variable\n",
    "    # If you get an error tf_activation is not defined it may be having trouble accessing the variable from inside a function\n",
    "    activation = tf_activation.eval(session=sess,feed_dict={x : image_input})\n",
    "    featuremaps = activation.shape[3]\n",
    "    plt.figure(plt_num, figsize=(15,15))\n",
    "    for featuremap in range(featuremaps):\n",
    "        plt.subplot(6,8, featuremap+1) # sets the number of feature maps to show on each row and column\n",
    "        plt.title('FeatureMap ' + str(featuremap)) # displays the feature map number\n",
    "        if activation_min != -1 & activation_max != -1:\n",
    "            plt.imshow(activation[0,:,:, featuremap], interpolation=\"nearest\", vmin =activation_min, vmax=activation_max, cmap=\"gray\")\n",
    "        elif activation_max != -1:\n",
    "            plt.imshow(activation[0,:,:, featuremap], interpolation=\"nearest\", vmax=activation_max, cmap=\"gray\")\n",
    "        elif activation_min !=-1:\n",
    "            plt.imshow(activation[0,:,:, featuremap], interpolation=\"nearest\", vmin=activation_min, cmap=\"gray\")\n",
    "        else:\n",
    "            plt.imshow(activation[0,:,:, featuremap], interpolation=\"nearest\", cmap=\"gray\")"
   ]
  },
  {
   "cell_type": "code",
   "execution_count": null,
   "metadata": {
    "collapsed": true
   },
   "outputs": [],
   "source": []
  }
 ],
 "metadata": {
  "anaconda-cloud": {},
  "kernelspec": {
   "display_name": "Python [conda env:carnd-term1]",
   "language": "python",
   "name": "conda-env-carnd-term1-py"
  },
  "language_info": {
   "codemirror_mode": {
    "name": "ipython",
    "version": 3
   },
   "file_extension": ".py",
   "mimetype": "text/x-python",
   "name": "python",
   "nbconvert_exporter": "python",
   "pygments_lexer": "ipython3",
   "version": "3.5.2"
  }
 },
 "nbformat": 4,
 "nbformat_minor": 1
}
